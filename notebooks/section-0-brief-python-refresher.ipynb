{
 "cells": [
  {
   "cell_type": "markdown",
   "metadata": {},
   "source": [
    "[![Open In Colab](../images/colab-badge.svg)](https://colab.research.google.com/github/MonashDataFluency/python-web-scraping/blob/master/notebooks/section-0-brief-python-refresher.ipynb)"
   ]
  },
  {
   "cell_type": "markdown",
   "metadata": {},
   "source": [
    "<center><img src=\"../images/xkcd_python.png\"></center>\n",
    "<center>https://xkcd.com/license.html (CC BY-NC 2.5)</center>"
   ]
  },
  {
   "cell_type": "markdown",
   "metadata": {},
   "source": [
    "### Jupyter-style notebooks on Google Colaboratory - A quick tour\n",
    "---"
   ]
  },
  {
   "cell_type": "markdown",
   "metadata": {},
   "source": [
    "1. Go to [this](https://colab.research.google.com) link  and login with your Google account.\n",
    "2. Select **NEW NOTEBOOK** - a new Python3 notebook will be created.\n",
    "3. Type some Python code in the top cell, eg:"
   ]
  },
  {
   "cell_type": "code",
   "execution_count": 69,
   "metadata": {},
   "outputs": [
    {
     "name": "stdout",
     "output_type": "stream",
     "text": [
      "Hello world!!\n"
     ]
    }
   ],
   "source": [
    "print(\"Hello world!!\")"
   ]
  },
  {
   "cell_type": "markdown",
   "metadata": {},
   "source": [
    "4. **Shift-Enter** to run the contents of the cell."
   ]
  },
  {
   "cell_type": "markdown",
   "metadata": {},
   "source": [
    "In this section we will take a quick tour of some of the concepts that will be used for the rest of our web scraping workshop.\n"
   ]
  },
  {
   "cell_type": "markdown",
   "metadata": {},
   "source": [
    "### Dataframes\n",
    "---"
   ]
  },
  {
   "cell_type": "markdown",
   "metadata": {},
   "source": [
    "One of the most powerful data structures in Python is the Pandas `DataFrame`. It allows tabular data, including `csv` (comma seperated values) and `tsv` (tab seperated values), to be processed and manipulated.  \n",
    "\n",
    "People familiar with Excel will no doubt find it intuitive and easy to grasp. Since most `csv` (or `tsv`) has become the de facto standard for sharing datasets both large and small, Pandas dataframe is the way to go."
   ]
  },
  {
   "cell_type": "code",
   "execution_count": 70,
   "metadata": {},
   "outputs": [
    {
     "name": "stdout",
     "output_type": "stream",
     "text": [
      "Pandas version : 1.0.1\n"
     ]
    }
   ],
   "source": [
    "import pandas as pd # importing the package and using `pd` as the alias \n",
    "print('Pandas version : {}'.format(pd.__version__))"
   ]
  },
  {
   "cell_type": "markdown",
   "metadata": {},
   "source": [
    "Suppose we wanted to create a dataframe as follows,\n",
    "\n",
    "| name | title     |\n",
    "|------|-----------|\n",
    "| sam  | physicist |\n",
    "| rob  | economist |"
   ]
  },
  {
   "cell_type": "markdown",
   "metadata": {},
   "source": [
    "Let's create a dictionary with the headers as keys and their corresponding values as a list as follows,"
   ]
  },
  {
   "cell_type": "code",
   "execution_count": 71,
   "metadata": {},
   "outputs": [],
   "source": [
    "data = {'name': ['sam', 'rob'], 'title': ['physicist', 'economist']}"
   ]
  },
  {
   "cell_type": "markdown",
   "metadata": {},
   "source": [
    "Converting the same to a dataframe,"
   ]
  },
  {
   "cell_type": "code",
   "execution_count": 72,
   "metadata": {},
   "outputs": [
    {
     "data": {
      "text/html": [
       "<div>\n",
       "<style scoped>\n",
       "    .dataframe tbody tr th:only-of-type {\n",
       "        vertical-align: middle;\n",
       "    }\n",
       "\n",
       "    .dataframe tbody tr th {\n",
       "        vertical-align: top;\n",
       "    }\n",
       "\n",
       "    .dataframe thead th {\n",
       "        text-align: right;\n",
       "    }\n",
       "</style>\n",
       "<table border=\"1\" class=\"dataframe\">\n",
       "  <thead>\n",
       "    <tr style=\"text-align: right;\">\n",
       "      <th></th>\n",
       "      <th>name</th>\n",
       "      <th>title</th>\n",
       "    </tr>\n",
       "  </thead>\n",
       "  <tbody>\n",
       "    <tr>\n",
       "      <th>0</th>\n",
       "      <td>sam</td>\n",
       "      <td>physicist</td>\n",
       "    </tr>\n",
       "    <tr>\n",
       "      <th>1</th>\n",
       "      <td>rob</td>\n",
       "      <td>economist</td>\n",
       "    </tr>\n",
       "  </tbody>\n",
       "</table>\n",
       "</div>"
      ],
      "text/plain": [
       "  name      title\n",
       "0  sam  physicist\n",
       "1  rob  economist"
      ]
     },
     "execution_count": 72,
     "metadata": {},
     "output_type": "execute_result"
    }
   ],
   "source": [
    "df = pd.DataFrame(data)\n",
    "# Note: converting to markdown for ease of display on site\n",
    "# print(df.to_markdown()) \n",
    "df"
   ]
  },
  {
   "cell_type": "markdown",
   "metadata": {},
   "source": [
    "|    | name   | title     |\n",
    "|---:|:-------|:----------|\n",
    "|  0 | sam    | physicist |\n",
    "|  1 | rob    | economist |\n"
   ]
  },
  {
   "cell_type": "markdown",
   "metadata": {},
   "source": [
    "Now lets create a bigger dataframe and learn some useful functions that can be performed on them."
   ]
  },
  {
   "cell_type": "code",
   "execution_count": 73,
   "metadata": {},
   "outputs": [],
   "source": [
    "data = {'Name': ['Sam', 'Rob', 'Jack', 'Jill', 'Dave', 'Alex', 'Steve'],\\\n",
    "        'Title': ['Physicist', 'Economist', 'Statistician', 'Data Scientist', 'Designer', 'Architect', 'Doctor'], \\\n",
    "        'Age': [59, 66, 42, 28, 24, 39, 52],\\\n",
    "        'City': ['Melbourne', 'Melbourne', 'Sydney', 'Sydney', 'Melbourne', 'Perth', 'Brisbane'],\\\n",
    "        'University': ['Monash', 'Monash', 'UNSW', 'UTS', 'Uni Mel', 'UWA', 'UQ']}"
   ]
  },
  {
   "cell_type": "code",
   "execution_count": 74,
   "metadata": {},
   "outputs": [
    {
     "data": {
      "text/html": [
       "<div>\n",
       "<style scoped>\n",
       "    .dataframe tbody tr th:only-of-type {\n",
       "        vertical-align: middle;\n",
       "    }\n",
       "\n",
       "    .dataframe tbody tr th {\n",
       "        vertical-align: top;\n",
       "    }\n",
       "\n",
       "    .dataframe thead th {\n",
       "        text-align: right;\n",
       "    }\n",
       "</style>\n",
       "<table border=\"1\" class=\"dataframe\">\n",
       "  <thead>\n",
       "    <tr style=\"text-align: right;\">\n",
       "      <th></th>\n",
       "      <th>Name</th>\n",
       "      <th>Title</th>\n",
       "      <th>Age</th>\n",
       "      <th>City</th>\n",
       "      <th>University</th>\n",
       "    </tr>\n",
       "  </thead>\n",
       "  <tbody>\n",
       "    <tr>\n",
       "      <th>0</th>\n",
       "      <td>Sam</td>\n",
       "      <td>Physicist</td>\n",
       "      <td>59</td>\n",
       "      <td>Melbourne</td>\n",
       "      <td>Monash</td>\n",
       "    </tr>\n",
       "    <tr>\n",
       "      <th>1</th>\n",
       "      <td>Rob</td>\n",
       "      <td>Economist</td>\n",
       "      <td>66</td>\n",
       "      <td>Melbourne</td>\n",
       "      <td>Monash</td>\n",
       "    </tr>\n",
       "    <tr>\n",
       "      <th>2</th>\n",
       "      <td>Jack</td>\n",
       "      <td>Statistician</td>\n",
       "      <td>42</td>\n",
       "      <td>Sydney</td>\n",
       "      <td>UNSW</td>\n",
       "    </tr>\n",
       "    <tr>\n",
       "      <th>3</th>\n",
       "      <td>Jill</td>\n",
       "      <td>Data Scientist</td>\n",
       "      <td>28</td>\n",
       "      <td>Sydney</td>\n",
       "      <td>UTS</td>\n",
       "    </tr>\n",
       "    <tr>\n",
       "      <th>4</th>\n",
       "      <td>Dave</td>\n",
       "      <td>Designer</td>\n",
       "      <td>24</td>\n",
       "      <td>Melbourne</td>\n",
       "      <td>Uni Mel</td>\n",
       "    </tr>\n",
       "    <tr>\n",
       "      <th>5</th>\n",
       "      <td>Alex</td>\n",
       "      <td>Architect</td>\n",
       "      <td>39</td>\n",
       "      <td>Perth</td>\n",
       "      <td>UWA</td>\n",
       "    </tr>\n",
       "    <tr>\n",
       "      <th>6</th>\n",
       "      <td>Steve</td>\n",
       "      <td>Doctor</td>\n",
       "      <td>52</td>\n",
       "      <td>Brisbane</td>\n",
       "      <td>UQ</td>\n",
       "    </tr>\n",
       "  </tbody>\n",
       "</table>\n",
       "</div>"
      ],
      "text/plain": [
       "    Name           Title  Age       City University\n",
       "0    Sam       Physicist   59  Melbourne     Monash\n",
       "1    Rob       Economist   66  Melbourne     Monash\n",
       "2   Jack    Statistician   42     Sydney       UNSW\n",
       "3   Jill  Data Scientist   28     Sydney        UTS\n",
       "4   Dave        Designer   24  Melbourne    Uni Mel\n",
       "5   Alex       Architect   39      Perth        UWA\n",
       "6  Steve          Doctor   52   Brisbane         UQ"
      ]
     },
     "execution_count": 74,
     "metadata": {},
     "output_type": "execute_result"
    }
   ],
   "source": [
    "df = pd.DataFrame(data)\n",
    "df"
   ]
  },
  {
   "cell_type": "markdown",
   "metadata": {},
   "source": [
    "|    | Name   | Title          |   Age | City      | University   |\n",
    "|---:|:-------|:---------------|------:|:----------|:-------------|\n",
    "|  0 | Sam    | Physicist      |    59 | Melbourne | Monash       |\n",
    "|  1 | Rob    | Economist      |    66 | Melbourne | Monash       |\n",
    "|  2 | Jack   | Statistician   |    42 | Sydney    | UNSW         |\n",
    "|  3 | Jill   | Data Scientist |    28 | Sydney    | UTS          |\n",
    "|  4 | Dave   | Designer       |    24 | Melbourne | Uni Mel      |\n",
    "|  5 | Alex   | Architect      |    39 | Perth     | UWA          |\n",
    "|  6 | Steve  | Doctor         |    52 | Brisbane  | UQ           |\n"
   ]
  },
  {
   "cell_type": "markdown",
   "metadata": {},
   "source": [
    "We can also take a quick glance at its contents by using :\n",
    "\n",
    "- `df.head()` : To display the first 5 rows\n",
    "\n",
    "- `df.tail()` : To display the last 5 rows"
   ]
  },
  {
   "cell_type": "code",
   "execution_count": 75,
   "metadata": {},
   "outputs": [
    {
     "data": {
      "text/html": [
       "<div>\n",
       "<style scoped>\n",
       "    .dataframe tbody tr th:only-of-type {\n",
       "        vertical-align: middle;\n",
       "    }\n",
       "\n",
       "    .dataframe tbody tr th {\n",
       "        vertical-align: top;\n",
       "    }\n",
       "\n",
       "    .dataframe thead th {\n",
       "        text-align: right;\n",
       "    }\n",
       "</style>\n",
       "<table border=\"1\" class=\"dataframe\">\n",
       "  <thead>\n",
       "    <tr style=\"text-align: right;\">\n",
       "      <th></th>\n",
       "      <th>Name</th>\n",
       "      <th>Title</th>\n",
       "      <th>Age</th>\n",
       "      <th>City</th>\n",
       "      <th>University</th>\n",
       "    </tr>\n",
       "  </thead>\n",
       "  <tbody>\n",
       "    <tr>\n",
       "      <th>0</th>\n",
       "      <td>Sam</td>\n",
       "      <td>Physicist</td>\n",
       "      <td>59</td>\n",
       "      <td>Melbourne</td>\n",
       "      <td>Monash</td>\n",
       "    </tr>\n",
       "    <tr>\n",
       "      <th>1</th>\n",
       "      <td>Rob</td>\n",
       "      <td>Economist</td>\n",
       "      <td>66</td>\n",
       "      <td>Melbourne</td>\n",
       "      <td>Monash</td>\n",
       "    </tr>\n",
       "    <tr>\n",
       "      <th>2</th>\n",
       "      <td>Jack</td>\n",
       "      <td>Statistician</td>\n",
       "      <td>42</td>\n",
       "      <td>Sydney</td>\n",
       "      <td>UNSW</td>\n",
       "    </tr>\n",
       "    <tr>\n",
       "      <th>3</th>\n",
       "      <td>Jill</td>\n",
       "      <td>Data Scientist</td>\n",
       "      <td>28</td>\n",
       "      <td>Sydney</td>\n",
       "      <td>UTS</td>\n",
       "    </tr>\n",
       "    <tr>\n",
       "      <th>4</th>\n",
       "      <td>Dave</td>\n",
       "      <td>Designer</td>\n",
       "      <td>24</td>\n",
       "      <td>Melbourne</td>\n",
       "      <td>Uni Mel</td>\n",
       "    </tr>\n",
       "  </tbody>\n",
       "</table>\n",
       "</div>"
      ],
      "text/plain": [
       "   Name           Title  Age       City University\n",
       "0   Sam       Physicist   59  Melbourne     Monash\n",
       "1   Rob       Economist   66  Melbourne     Monash\n",
       "2  Jack    Statistician   42     Sydney       UNSW\n",
       "3  Jill  Data Scientist   28     Sydney        UTS\n",
       "4  Dave        Designer   24  Melbourne    Uni Mel"
      ]
     },
     "execution_count": 75,
     "metadata": {},
     "output_type": "execute_result"
    }
   ],
   "source": [
    "df.head()"
   ]
  },
  {
   "cell_type": "markdown",
   "metadata": {},
   "source": [
    "|    | Name   | Title          |   Age | City      | University   |\n",
    "|---:|:-------|:---------------|------:|:----------|:-------------|\n",
    "|  0 | Sam    | Physicist      |    59 | Melbourne | Monash       |\n",
    "|  1 | Rob    | Economist      |    66 | Melbourne | Monash       |\n",
    "|  2 | Jack   | Statistician   |    42 | Sydney    | UNSW         |\n",
    "|  3 | Jill   | Data Scientist |    28 | Sydney    | UTS          |\n",
    "|  4 | Dave   | Designer       |    24 | Melbourne | Uni Mel      |"
   ]
  },
  {
   "cell_type": "code",
   "execution_count": 76,
   "metadata": {},
   "outputs": [
    {
     "data": {
      "text/html": [
       "<div>\n",
       "<style scoped>\n",
       "    .dataframe tbody tr th:only-of-type {\n",
       "        vertical-align: middle;\n",
       "    }\n",
       "\n",
       "    .dataframe tbody tr th {\n",
       "        vertical-align: top;\n",
       "    }\n",
       "\n",
       "    .dataframe thead th {\n",
       "        text-align: right;\n",
       "    }\n",
       "</style>\n",
       "<table border=\"1\" class=\"dataframe\">\n",
       "  <thead>\n",
       "    <tr style=\"text-align: right;\">\n",
       "      <th></th>\n",
       "      <th>Name</th>\n",
       "      <th>Title</th>\n",
       "      <th>Age</th>\n",
       "      <th>City</th>\n",
       "      <th>University</th>\n",
       "    </tr>\n",
       "  </thead>\n",
       "  <tbody>\n",
       "    <tr>\n",
       "      <th>2</th>\n",
       "      <td>Jack</td>\n",
       "      <td>Statistician</td>\n",
       "      <td>42</td>\n",
       "      <td>Sydney</td>\n",
       "      <td>UNSW</td>\n",
       "    </tr>\n",
       "    <tr>\n",
       "      <th>3</th>\n",
       "      <td>Jill</td>\n",
       "      <td>Data Scientist</td>\n",
       "      <td>28</td>\n",
       "      <td>Sydney</td>\n",
       "      <td>UTS</td>\n",
       "    </tr>\n",
       "    <tr>\n",
       "      <th>4</th>\n",
       "      <td>Dave</td>\n",
       "      <td>Designer</td>\n",
       "      <td>24</td>\n",
       "      <td>Melbourne</td>\n",
       "      <td>Uni Mel</td>\n",
       "    </tr>\n",
       "    <tr>\n",
       "      <th>5</th>\n",
       "      <td>Alex</td>\n",
       "      <td>Architect</td>\n",
       "      <td>39</td>\n",
       "      <td>Perth</td>\n",
       "      <td>UWA</td>\n",
       "    </tr>\n",
       "    <tr>\n",
       "      <th>6</th>\n",
       "      <td>Steve</td>\n",
       "      <td>Doctor</td>\n",
       "      <td>52</td>\n",
       "      <td>Brisbane</td>\n",
       "      <td>UQ</td>\n",
       "    </tr>\n",
       "  </tbody>\n",
       "</table>\n",
       "</div>"
      ],
      "text/plain": [
       "    Name           Title  Age       City University\n",
       "2   Jack    Statistician   42     Sydney       UNSW\n",
       "3   Jill  Data Scientist   28     Sydney        UTS\n",
       "4   Dave        Designer   24  Melbourne    Uni Mel\n",
       "5   Alex       Architect   39      Perth        UWA\n",
       "6  Steve          Doctor   52   Brisbane         UQ"
      ]
     },
     "execution_count": 76,
     "metadata": {},
     "output_type": "execute_result"
    }
   ],
   "source": [
    "df.tail()"
   ]
  },
  {
   "cell_type": "markdown",
   "metadata": {},
   "source": [
    "|    | Name   | Title          |   Age | City      | University   |\n",
    "|---:|:-------|:---------------|------:|:----------|:-------------|\n",
    "|  2 | Jack   | Statistician   |    42 | Sydney    | UNSW         |\n",
    "|  3 | Jill   | Data Scientist |    28 | Sydney    | UTS          |\n",
    "|  4 | Dave   | Designer       |    24 | Melbourne | Uni Mel      |\n",
    "|  5 | Alex   | Architect      |    39 | Perth     | UWA          |\n",
    "|  6 | Steve  | Doctor         |    52 | Brisbane  | UQ           |"
   ]
  },
  {
   "cell_type": "markdown",
   "metadata": {},
   "source": [
    "Lets say we want to fiter out all the people from `Sydney`."
   ]
  },
  {
   "cell_type": "code",
   "execution_count": 77,
   "metadata": {},
   "outputs": [
    {
     "data": {
      "text/html": [
       "<div>\n",
       "<style scoped>\n",
       "    .dataframe tbody tr th:only-of-type {\n",
       "        vertical-align: middle;\n",
       "    }\n",
       "\n",
       "    .dataframe tbody tr th {\n",
       "        vertical-align: top;\n",
       "    }\n",
       "\n",
       "    .dataframe thead th {\n",
       "        text-align: right;\n",
       "    }\n",
       "</style>\n",
       "<table border=\"1\" class=\"dataframe\">\n",
       "  <thead>\n",
       "    <tr style=\"text-align: right;\">\n",
       "      <th></th>\n",
       "      <th>Name</th>\n",
       "      <th>Title</th>\n",
       "      <th>Age</th>\n",
       "      <th>City</th>\n",
       "      <th>University</th>\n",
       "    </tr>\n",
       "  </thead>\n",
       "  <tbody>\n",
       "    <tr>\n",
       "      <th>2</th>\n",
       "      <td>Jack</td>\n",
       "      <td>Statistician</td>\n",
       "      <td>42</td>\n",
       "      <td>Sydney</td>\n",
       "      <td>UNSW</td>\n",
       "    </tr>\n",
       "    <tr>\n",
       "      <th>3</th>\n",
       "      <td>Jill</td>\n",
       "      <td>Data Scientist</td>\n",
       "      <td>28</td>\n",
       "      <td>Sydney</td>\n",
       "      <td>UTS</td>\n",
       "    </tr>\n",
       "  </tbody>\n",
       "</table>\n",
       "</div>"
      ],
      "text/plain": [
       "   Name           Title  Age    City University\n",
       "2  Jack    Statistician   42  Sydney       UNSW\n",
       "3  Jill  Data Scientist   28  Sydney        UTS"
      ]
     },
     "execution_count": 77,
     "metadata": {},
     "output_type": "execute_result"
    }
   ],
   "source": [
    "df[df['City'] == 'Sydney']"
   ]
  },
  {
   "cell_type": "markdown",
   "metadata": {},
   "source": [
    "|    | Name   | Title          |   Age | City   | University   |\n",
    "|---:|:-------|:---------------|------:|:-------|:-------------|\n",
    "|  2 | Jack   | Statistician   |    42 | Sydney | UNSW         |\n",
    "|  3 | Jill   | Data Scientist |    28 | Sydney | UTS          |\n"
   ]
  },
  {
   "cell_type": "markdown",
   "metadata": {},
   "source": [
    "Now, lets say we want to look at all the people in `Melbourne` and in `Monash`. Notice the usage of `()` and `&`."
   ]
  },
  {
   "cell_type": "code",
   "execution_count": 78,
   "metadata": {},
   "outputs": [
    {
     "data": {
      "text/html": [
       "<div>\n",
       "<style scoped>\n",
       "    .dataframe tbody tr th:only-of-type {\n",
       "        vertical-align: middle;\n",
       "    }\n",
       "\n",
       "    .dataframe tbody tr th {\n",
       "        vertical-align: top;\n",
       "    }\n",
       "\n",
       "    .dataframe thead th {\n",
       "        text-align: right;\n",
       "    }\n",
       "</style>\n",
       "<table border=\"1\" class=\"dataframe\">\n",
       "  <thead>\n",
       "    <tr style=\"text-align: right;\">\n",
       "      <th></th>\n",
       "      <th>Name</th>\n",
       "      <th>Title</th>\n",
       "      <th>Age</th>\n",
       "      <th>City</th>\n",
       "      <th>University</th>\n",
       "    </tr>\n",
       "  </thead>\n",
       "  <tbody>\n",
       "    <tr>\n",
       "      <th>0</th>\n",
       "      <td>Sam</td>\n",
       "      <td>Physicist</td>\n",
       "      <td>59</td>\n",
       "      <td>Melbourne</td>\n",
       "      <td>Monash</td>\n",
       "    </tr>\n",
       "    <tr>\n",
       "      <th>1</th>\n",
       "      <td>Rob</td>\n",
       "      <td>Economist</td>\n",
       "      <td>66</td>\n",
       "      <td>Melbourne</td>\n",
       "      <td>Monash</td>\n",
       "    </tr>\n",
       "  </tbody>\n",
       "</table>\n",
       "</div>"
      ],
      "text/plain": [
       "  Name      Title  Age       City University\n",
       "0  Sam  Physicist   59  Melbourne     Monash\n",
       "1  Rob  Economist   66  Melbourne     Monash"
      ]
     },
     "execution_count": 78,
     "metadata": {},
     "output_type": "execute_result"
    }
   ],
   "source": [
    "df[(df['City'] == 'Melbourne') & (df['University'] == 'Monash')]"
   ]
  },
  {
   "cell_type": "markdown",
   "metadata": {},
   "source": [
    "|    | Name   | Title     |   Age | City      | University   |\n",
    "|---:|:-------|:----------|------:|:----------|:-------------|\n",
    "|  0 | Sam    | Physicist |    59 | Melbourne | Monash       |\n",
    "|  1 | Rob    | Economist |    66 | Melbourne | Monash       |\n"
   ]
  },
  {
   "cell_type": "markdown",
   "metadata": {},
   "source": [
    "#### Challenge\n",
    "---\n",
    "\n",
    "How can we filter people from `Melbourne` and above the Age of `50`?\n",
    "\n",
    "---"
   ]
  },
  {
   "cell_type": "markdown",
   "metadata": {},
   "source": [
    "We can also fetch specific rows based on their indexes as well."
   ]
  },
  {
   "cell_type": "code",
   "execution_count": 79,
   "metadata": {},
   "outputs": [
    {
     "data": {
      "text/html": [
       "<div>\n",
       "<style scoped>\n",
       "    .dataframe tbody tr th:only-of-type {\n",
       "        vertical-align: middle;\n",
       "    }\n",
       "\n",
       "    .dataframe tbody tr th {\n",
       "        vertical-align: top;\n",
       "    }\n",
       "\n",
       "    .dataframe thead th {\n",
       "        text-align: right;\n",
       "    }\n",
       "</style>\n",
       "<table border=\"1\" class=\"dataframe\">\n",
       "  <thead>\n",
       "    <tr style=\"text-align: right;\">\n",
       "      <th></th>\n",
       "      <th>Name</th>\n",
       "      <th>Title</th>\n",
       "      <th>Age</th>\n",
       "      <th>City</th>\n",
       "      <th>University</th>\n",
       "    </tr>\n",
       "  </thead>\n",
       "  <tbody>\n",
       "    <tr>\n",
       "      <th>1</th>\n",
       "      <td>Rob</td>\n",
       "      <td>Economist</td>\n",
       "      <td>66</td>\n",
       "      <td>Melbourne</td>\n",
       "      <td>Monash</td>\n",
       "    </tr>\n",
       "    <tr>\n",
       "      <th>2</th>\n",
       "      <td>Jack</td>\n",
       "      <td>Statistician</td>\n",
       "      <td>42</td>\n",
       "      <td>Sydney</td>\n",
       "      <td>UNSW</td>\n",
       "    </tr>\n",
       "  </tbody>\n",
       "</table>\n",
       "</div>"
      ],
      "text/plain": [
       "   Name         Title  Age       City University\n",
       "1   Rob     Economist   66  Melbourne     Monash\n",
       "2  Jack  Statistician   42     Sydney       UNSW"
      ]
     },
     "execution_count": 79,
     "metadata": {},
     "output_type": "execute_result"
    }
   ],
   "source": [
    "df.iloc[1:3]"
   ]
  },
  {
   "cell_type": "markdown",
   "metadata": {},
   "source": [
    "|    | Name   | Title        |   Age | City      | University   |\n",
    "|---:|:-------|:-------------|------:|:----------|:-------------|\n",
    "|  1 | Rob    | Economist    |    66 | Melbourne | Monash       |\n",
    "|  2 | Jack   | Statistician |    42 | Sydney    | UNSW         |\n"
   ]
  },
  {
   "cell_type": "markdown",
   "metadata": {},
   "source": [
    "Lets try changing Jack's age to 43, because today is his Birthday and he has now turned 43."
   ]
  },
  {
   "cell_type": "code",
   "execution_count": 80,
   "metadata": {},
   "outputs": [],
   "source": [
    "df.loc[2, 'Age'] = 43"
   ]
  },
  {
   "cell_type": "markdown",
   "metadata": {},
   "source": [
    "The above is just one way to do this. Some of the other ways are as follows:  \n",
    "\n",
    "- `df.at[2, 'Age'] = 43`\n",
    "\n",
    "- `df.loc[df[df['Name'] == 'Jack'].index, 'Age'] = 43`\n",
    "\n",
    "Lets look at the updated data frame."
   ]
  },
  {
   "cell_type": "code",
   "execution_count": 81,
   "metadata": {},
   "outputs": [
    {
     "data": {
      "text/html": [
       "<div>\n",
       "<style scoped>\n",
       "    .dataframe tbody tr th:only-of-type {\n",
       "        vertical-align: middle;\n",
       "    }\n",
       "\n",
       "    .dataframe tbody tr th {\n",
       "        vertical-align: top;\n",
       "    }\n",
       "\n",
       "    .dataframe thead th {\n",
       "        text-align: right;\n",
       "    }\n",
       "</style>\n",
       "<table border=\"1\" class=\"dataframe\">\n",
       "  <thead>\n",
       "    <tr style=\"text-align: right;\">\n",
       "      <th></th>\n",
       "      <th>Name</th>\n",
       "      <th>Title</th>\n",
       "      <th>Age</th>\n",
       "      <th>City</th>\n",
       "      <th>University</th>\n",
       "    </tr>\n",
       "  </thead>\n",
       "  <tbody>\n",
       "    <tr>\n",
       "      <th>0</th>\n",
       "      <td>Sam</td>\n",
       "      <td>Physicist</td>\n",
       "      <td>59</td>\n",
       "      <td>Melbourne</td>\n",
       "      <td>Monash</td>\n",
       "    </tr>\n",
       "    <tr>\n",
       "      <th>1</th>\n",
       "      <td>Rob</td>\n",
       "      <td>Economist</td>\n",
       "      <td>66</td>\n",
       "      <td>Melbourne</td>\n",
       "      <td>Monash</td>\n",
       "    </tr>\n",
       "    <tr>\n",
       "      <th>2</th>\n",
       "      <td>Jack</td>\n",
       "      <td>Statistician</td>\n",
       "      <td>43</td>\n",
       "      <td>Sydney</td>\n",
       "      <td>UNSW</td>\n",
       "    </tr>\n",
       "    <tr>\n",
       "      <th>3</th>\n",
       "      <td>Jill</td>\n",
       "      <td>Data Scientist</td>\n",
       "      <td>28</td>\n",
       "      <td>Sydney</td>\n",
       "      <td>UTS</td>\n",
       "    </tr>\n",
       "    <tr>\n",
       "      <th>4</th>\n",
       "      <td>Dave</td>\n",
       "      <td>Designer</td>\n",
       "      <td>24</td>\n",
       "      <td>Melbourne</td>\n",
       "      <td>Uni Mel</td>\n",
       "    </tr>\n",
       "    <tr>\n",
       "      <th>5</th>\n",
       "      <td>Alex</td>\n",
       "      <td>Architect</td>\n",
       "      <td>39</td>\n",
       "      <td>Perth</td>\n",
       "      <td>UWA</td>\n",
       "    </tr>\n",
       "    <tr>\n",
       "      <th>6</th>\n",
       "      <td>Steve</td>\n",
       "      <td>Doctor</td>\n",
       "      <td>52</td>\n",
       "      <td>Brisbane</td>\n",
       "      <td>UQ</td>\n",
       "    </tr>\n",
       "  </tbody>\n",
       "</table>\n",
       "</div>"
      ],
      "text/plain": [
       "    Name           Title  Age       City University\n",
       "0    Sam       Physicist   59  Melbourne     Monash\n",
       "1    Rob       Economist   66  Melbourne     Monash\n",
       "2   Jack    Statistician   43     Sydney       UNSW\n",
       "3   Jill  Data Scientist   28     Sydney        UTS\n",
       "4   Dave        Designer   24  Melbourne    Uni Mel\n",
       "5   Alex       Architect   39      Perth        UWA\n",
       "6  Steve          Doctor   52   Brisbane         UQ"
      ]
     },
     "execution_count": 81,
     "metadata": {},
     "output_type": "execute_result"
    }
   ],
   "source": [
    "df"
   ]
  },
  {
   "cell_type": "markdown",
   "metadata": {},
   "source": [
    "|    | Name   | Title          |   Age | City      | University   |\n",
    "|---:|:-------|:---------------|------:|:----------|:-------------|\n",
    "|  0 | Sam    | Physicist      |    59 | Melbourne | Monash       |\n",
    "|  1 | Rob    | Economist      |    66 | Melbourne | Monash       |\n",
    "|  2 | Jack   | Statistician   |    43 | Sydney    | UNSW         |\n",
    "|  3 | Jill   | Data Scientist |    28 | Sydney    | UTS          |\n",
    "|  4 | Dave   | Designer       |    24 | Melbourne | Uni Mel      |\n",
    "|  5 | Alex   | Architect      |    39 | Perth     | UWA          |\n",
    "|  6 | Steve  | Doctor         |    52 | Brisbane  | UQ           |"
   ]
  },
  {
   "cell_type": "markdown",
   "metadata": {},
   "source": [
    "For exporting a Pandas dataframe to a `csv` file, we can use `to_csv()` as follows\n",
    "```python\n",
    "df.to_csv(filename, index=False)\n",
    "```\n",
    "\n",
    "Lets try writing our data frame to a file."
   ]
  },
  {
   "cell_type": "code",
   "execution_count": 82,
   "metadata": {},
   "outputs": [],
   "source": [
    "df.to_csv('researchers.csv', index=False)"
   ]
  },
  {
   "cell_type": "markdown",
   "metadata": {},
   "source": [
    "In order to read external files we use `read_csv()` function,\n",
    "```python\n",
    "pd.read_csv(filename, sep=',')\n",
    "```\n",
    "\n",
    "We can read back the file that we just created."
   ]
  },
  {
   "cell_type": "code",
   "execution_count": 83,
   "metadata": {},
   "outputs": [
    {
     "data": {
      "text/html": [
       "<div>\n",
       "<style scoped>\n",
       "    .dataframe tbody tr th:only-of-type {\n",
       "        vertical-align: middle;\n",
       "    }\n",
       "\n",
       "    .dataframe tbody tr th {\n",
       "        vertical-align: top;\n",
       "    }\n",
       "\n",
       "    .dataframe thead th {\n",
       "        text-align: right;\n",
       "    }\n",
       "</style>\n",
       "<table border=\"1\" class=\"dataframe\">\n",
       "  <thead>\n",
       "    <tr style=\"text-align: right;\">\n",
       "      <th></th>\n",
       "      <th>Name</th>\n",
       "      <th>Title</th>\n",
       "      <th>Age</th>\n",
       "      <th>City</th>\n",
       "      <th>University</th>\n",
       "    </tr>\n",
       "  </thead>\n",
       "  <tbody>\n",
       "    <tr>\n",
       "      <th>0</th>\n",
       "      <td>Sam</td>\n",
       "      <td>Physicist</td>\n",
       "      <td>59</td>\n",
       "      <td>Melbourne</td>\n",
       "      <td>Monash</td>\n",
       "    </tr>\n",
       "    <tr>\n",
       "      <th>1</th>\n",
       "      <td>Rob</td>\n",
       "      <td>Economist</td>\n",
       "      <td>66</td>\n",
       "      <td>Melbourne</td>\n",
       "      <td>Monash</td>\n",
       "    </tr>\n",
       "    <tr>\n",
       "      <th>2</th>\n",
       "      <td>Jack</td>\n",
       "      <td>Statistician</td>\n",
       "      <td>43</td>\n",
       "      <td>Sydney</td>\n",
       "      <td>UNSW</td>\n",
       "    </tr>\n",
       "    <tr>\n",
       "      <th>3</th>\n",
       "      <td>Jill</td>\n",
       "      <td>Data Scientist</td>\n",
       "      <td>28</td>\n",
       "      <td>Sydney</td>\n",
       "      <td>UTS</td>\n",
       "    </tr>\n",
       "    <tr>\n",
       "      <th>4</th>\n",
       "      <td>Dave</td>\n",
       "      <td>Designer</td>\n",
       "      <td>24</td>\n",
       "      <td>Melbourne</td>\n",
       "      <td>Uni Mel</td>\n",
       "    </tr>\n",
       "    <tr>\n",
       "      <th>5</th>\n",
       "      <td>Alex</td>\n",
       "      <td>Architect</td>\n",
       "      <td>39</td>\n",
       "      <td>Perth</td>\n",
       "      <td>UWA</td>\n",
       "    </tr>\n",
       "    <tr>\n",
       "      <th>6</th>\n",
       "      <td>Steve</td>\n",
       "      <td>Doctor</td>\n",
       "      <td>52</td>\n",
       "      <td>Brisbane</td>\n",
       "      <td>UQ</td>\n",
       "    </tr>\n",
       "  </tbody>\n",
       "</table>\n",
       "</div>"
      ],
      "text/plain": [
       "    Name           Title  Age       City University\n",
       "0    Sam       Physicist   59  Melbourne     Monash\n",
       "1    Rob       Economist   66  Melbourne     Monash\n",
       "2   Jack    Statistician   43     Sydney       UNSW\n",
       "3   Jill  Data Scientist   28     Sydney        UTS\n",
       "4   Dave        Designer   24  Melbourne    Uni Mel\n",
       "5   Alex       Architect   39      Perth        UWA\n",
       "6  Steve          Doctor   52   Brisbane         UQ"
      ]
     },
     "execution_count": 83,
     "metadata": {},
     "output_type": "execute_result"
    }
   ],
   "source": [
    "df_res = pd.read_csv('researchers.csv', sep=',')\n",
    "df_res"
   ]
  },
  {
   "cell_type": "markdown",
   "metadata": {},
   "source": [
    "|    | Name   | Title          |   Age | City      | University   |\n",
    "|---:|:-------|:---------------|------:|:----------|:-------------|\n",
    "|  0 | Sam    | Physicist      |    59 | Melbourne | Monash       |\n",
    "|  1 | Rob    | Economist      |    66 | Melbourne | Monash       |\n",
    "|  2 | Jack   | Statistician   |    43 | Sydney    | UNSW         |\n",
    "|  3 | Jill   | Data Scientist |    28 | Sydney    | UTS          |\n",
    "|  4 | Dave   | Designer       |    24 | Melbourne | Uni Mel      |\n",
    "|  5 | Alex   | Architect      |    39 | Perth     | UWA          |\n",
    "|  6 | Steve  | Doctor         |    52 | Brisbane  | UQ           |\n"
   ]
  },
  {
   "cell_type": "markdown",
   "metadata": {},
   "source": [
    "### JSON\n",
    "---"
   ]
  },
  {
   "cell_type": "markdown",
   "metadata": {},
   "source": [
    "JSON stands for *JavaScript Object Notation*.\n",
    "\n",
    "When exchanging data between a browser and a server, the data can only be text.\n",
    "\n",
    "Python has a built-in package called `json`, which can be used to work with JSON data."
   ]
  },
  {
   "cell_type": "code",
   "execution_count": 84,
   "metadata": {},
   "outputs": [],
   "source": [
    "import json"
   ]
  },
  {
   "cell_type": "markdown",
   "metadata": {},
   "source": [
    "Once we imported the library, now lets look at how we can obtain a JSON object from a string (or more accurately a JSON string). This process is also know as deserialization where we convert a string to an object.\n",
    "\n",
    "JSON is a string that can be turned into ('deserialized') a Python dictionary containing just primitive types (floats, strings, bools, lists, dicts and None)."
   ]
  },
  {
   "cell_type": "code",
   "execution_count": 85,
   "metadata": {},
   "outputs": [
    {
     "name": "stdout",
     "output_type": "stream",
     "text": [
      "30\n"
     ]
    }
   ],
   "source": [
    "# Convert from JSON to Python:\n",
    "\n",
    "# some JSON:\n",
    "x =  '{ \"name\":\"John\", \"age\":30, \"city\":\"New York\"}'\n",
    "\n",
    "# parse x:\n",
    "y = json.loads(x)\n",
    "\n",
    "# the result is a Python dictionary:\n",
    "print(y[\"age\"])"
   ]
  },
  {
   "cell_type": "markdown",
   "metadata": {},
   "source": [
    "Lets take a look at `y` as follows,"
   ]
  },
  {
   "cell_type": "code",
   "execution_count": 86,
   "metadata": {
    "scrolled": true
   },
   "outputs": [
    {
     "name": "stdout",
     "output_type": "stream",
     "text": [
      "{'name': 'John', 'age': 30, 'city': 'New York'}\n"
     ]
    }
   ],
   "source": [
    "print(y)"
   ]
  },
  {
   "cell_type": "markdown",
   "metadata": {},
   "source": [
    "We can obtain the exact same JSON string we defined earlier from a Python dictionary as follows,"
   ]
  },
  {
   "cell_type": "code",
   "execution_count": 87,
   "metadata": {},
   "outputs": [
    {
     "name": "stdout",
     "output_type": "stream",
     "text": [
      "{\"name\": \"John\", \"age\": 30, \"city\": \"New York\"}\n"
     ]
    }
   ],
   "source": [
    "# Convert from Python to JSON\n",
    "\n",
    "# a Python object (dict):\n",
    "x = {\n",
    "  \"name\": \"John\",\n",
    "  \"age\": 30,\n",
    "  \"city\": \"New York\"\n",
    "}\n",
    "\n",
    "# convert into JSON:\n",
    "y = json.dumps(x)\n",
    "\n",
    "# the result is a JSON string:\n",
    "print(y)"
   ]
  },
  {
   "cell_type": "markdown",
   "metadata": {},
   "source": [
    "For better formatting we can indent the same as,"
   ]
  },
  {
   "cell_type": "code",
   "execution_count": 88,
   "metadata": {
    "scrolled": true
   },
   "outputs": [
    {
     "name": "stdout",
     "output_type": "stream",
     "text": [
      "{\n",
      "    \"name\": \"John\",\n",
      "    \"age\": 30,\n",
      "    \"city\": \"New York\"\n",
      "}\n"
     ]
    }
   ],
   "source": [
    "# Indentation\n",
    "y = json.dumps(x, indent=4)\n",
    "print(y)\n"
   ]
  },
  {
   "cell_type": "markdown",
   "metadata": {},
   "source": [
    "### Regex\n",
    "---"
   ]
  },
  {
   "cell_type": "markdown",
   "metadata": {},
   "source": [
    "Regular expressions or regex are a powerful tool to extract key pieces of data from raw text.\n",
    "\n",
    "This is a whirlwind tour of regular expressions so you have some familiarity, but becoming proficient will require further study and practise. Regex is deep enough to have a whole workshop of it's own\n",
    "\n",
    "You can try your regex expressions in : \n",
    "\n",
    "- [pythex](https://pythex.org/) for a python oriented regex editor\n",
    "- [regexr](https://regexr.com/) for a more visual explanation behind the expressions (good for getting started)"
   ]
  },
  {
   "cell_type": "code",
   "execution_count": 89,
   "metadata": {},
   "outputs": [],
   "source": [
    "import re # regex package in python is named 're'"
   ]
  },
  {
   "cell_type": "code",
   "execution_count": 90,
   "metadata": {},
   "outputs": [
    {
     "data": {
      "text/plain": [
       "<re.Match object; span=(6, 9), match='123'>"
      ]
     },
     "execution_count": 90,
     "metadata": {},
     "output_type": "execute_result"
    }
   ],
   "source": [
    "my_str = 'python123good'\n",
    "re.search('123', my_str)"
   ]
  },
  {
   "cell_type": "code",
   "execution_count": 91,
   "metadata": {},
   "outputs": [
    {
     "name": "stdout",
     "output_type": "stream",
     "text": [
      "Found\n"
     ]
    }
   ],
   "source": [
    "if re.search('123', my_str):\n",
    "    print(\"Found\")\n",
    "else:\n",
    "    print(\"Not found\")"
   ]
  },
  {
   "cell_type": "markdown",
   "metadata": {},
   "source": [
    "We can use `[0-9]` in the regular expression to identify any one number in the string."
   ]
  },
  {
   "cell_type": "code",
   "execution_count": 92,
   "metadata": {},
   "outputs": [
    {
     "data": {
      "text/plain": [
       "<re.Match object; span=(6, 7), match='1'>"
      ]
     },
     "execution_count": 92,
     "metadata": {},
     "output_type": "execute_result"
    }
   ],
   "source": [
    "my_str = 'python123good'\n",
    "re.search('[0-9]', my_str)"
   ]
  },
  {
   "cell_type": "markdown",
   "metadata": {},
   "source": [
    "Notice that it matches the first occurance only."
   ]
  },
  {
   "cell_type": "markdown",
   "metadata": {},
   "source": [
    "Now, the above regex can be modified to match any three numbers in a string."
   ]
  },
  {
   "cell_type": "code",
   "execution_count": 93,
   "metadata": {},
   "outputs": [
    {
     "data": {
      "text/plain": [
       "<re.Match object; span=(6, 9), match='123'>"
      ]
     },
     "execution_count": 93,
     "metadata": {},
     "output_type": "execute_result"
    }
   ],
   "source": [
    "my_str = 'python123good'\n",
    "re.search('[0-9][0-9][0-9]', my_str)"
   ]
  },
  {
   "cell_type": "code",
   "execution_count": 94,
   "metadata": {},
   "outputs": [
    {
     "name": "stdout",
     "output_type": "stream",
     "text": [
      "<re.Match object; span=(5, 8), match='123'>\n",
      "<re.Match object; span=(5, 8), match='678'>\n",
      "<re.Match object; span=(0, 3), match='012'>\n",
      "<re.Match object; span=(5, 8), match='567'>\n",
      "None\n"
     ]
    }
   ],
   "source": [
    "print(re.search('[0-9][0-9][0-9]','hello123')) # matches 123\n",
    "print(re.search('[0-9][0-9][0-9]','great678python')) # matches 678\n",
    "print(re.search('[0-9][0-9][0-9]','01234webscraing')) # matches 012\n",
    "print(re.search('[0-9][0-9][0-9]','01web5678scraing')) # matches 567\n",
    "print(re.search('[0-9][0-9][0-9]','hello world')) # matches nothing"
   ]
  },
  {
   "cell_type": "markdown",
   "metadata": {},
   "source": [
    "As seen above, it matches the first occurance of three digits occuring together.\n",
    "\n",
    "The above example can be extended to match any number of numbers using the wild character `*` which matches `zero or more repetitions`."
   ]
  },
  {
   "cell_type": "code",
   "execution_count": 95,
   "metadata": {},
   "outputs": [
    {
     "name": "stdout",
     "output_type": "stream",
     "text": [
      "<re.Match object; span=(0, 8), match='hello123'>\n"
     ]
    }
   ],
   "source": [
    "print(re.search('[a-z]*[0-9]*','hello123@@')) # matches hello123"
   ]
  },
  {
   "cell_type": "markdown",
   "metadata": {},
   "source": [
    "What if we just want to capture only the numbers? `Capture group` is the answer."
   ]
  },
  {
   "cell_type": "code",
   "execution_count": 96,
   "metadata": {},
   "outputs": [
    {
     "data": {
      "text/plain": [
       "['123', '']"
      ]
     },
     "execution_count": 96,
     "metadata": {},
     "output_type": "execute_result"
    }
   ],
   "source": [
    "num_regex = re.compile('[a-z]*([0-9]*)[a-z]*')\n",
    "my_str = 'python123good'\n",
    "num_regex.findall(my_str)"
   ]
  },
  {
   "cell_type": "markdown",
   "metadata": {},
   "source": [
    "We see that it matchs an empty string as well because `*` matches zero or more occurances. \n",
    "\n",
    "To avoid this, we can use `+` which matches one or more occurances."
   ]
  },
  {
   "cell_type": "code",
   "execution_count": 97,
   "metadata": {},
   "outputs": [
    {
     "data": {
      "text/plain": [
       "['123']"
      ]
     },
     "execution_count": 97,
     "metadata": {},
     "output_type": "execute_result"
    }
   ],
   "source": [
    "num_regex = re.compile('[a-z]*([0-9]+)[a-z]*')\n",
    "my_str = 'python123good'\n",
    "num_regex.findall(my_str)"
   ]
  },
  {
   "cell_type": "markdown",
   "metadata": {},
   "source": [
    "We can use `^` and `$` to match at the beginning and end of string.\n",
    "\n",
    "As shown in the below 2 examples, we use `^` to get the numbers by which the string is starting."
   ]
  },
  {
   "cell_type": "code",
   "execution_count": 98,
   "metadata": {},
   "outputs": [
    {
     "data": {
      "text/plain": [
       "['123']"
      ]
     },
     "execution_count": 98,
     "metadata": {},
     "output_type": "execute_result"
    }
   ],
   "source": [
    "num_regex = re.compile('^([0-9]+)[a-z]*')\n",
    "my_str = '123good'\n",
    "num_regex.findall(my_str)"
   ]
  },
  {
   "cell_type": "code",
   "execution_count": 99,
   "metadata": {},
   "outputs": [
    {
     "data": {
      "text/plain": [
       "[]"
      ]
     },
     "execution_count": 99,
     "metadata": {},
     "output_type": "execute_result"
    }
   ],
   "source": [
    "my_str = 'hello123good'\n",
    "num_regex.findall(my_str)"
   ]
  },
  {
   "cell_type": "markdown",
   "metadata": {},
   "source": [
    "#### Challenge\n",
    "---\n",
    "\n",
    "What regular expression can be used to match the numbers **only** at the end of the string:\n",
    "\n",
    "- `'[a-z]*([0-9]+)[a-z]+'`\n",
    "- `'[a-z]*([0-9]+)$'`\n",
    "- `'$[a-z]*([0-9]+)'`\n",
    "- `'([0-9]+)'`\n",
    "\n",
    "---"
   ]
  },
  {
   "cell_type": "markdown",
   "metadata": {},
   "source": [
    "Now, having learnt the regular expressions on basic strings, the same concept can be applied to an html as well as shown below:"
   ]
  },
  {
   "cell_type": "code",
   "execution_count": 100,
   "metadata": {},
   "outputs": [
    {
     "name": "stdout",
     "output_type": "stream",
     "text": [
      "\n",
      "         <!DOCTYPE html>\n",
      "        <html>\n",
      "        <head>\n",
      "        <title>site</title>\n",
      "        </head>\n",
      "        <body>\n",
      "\n",
      "        <h1>Sam</h1>\n",
      "        <h2>Physicist</h2>\n",
      "        <p>Lorem ipsum dolor sit amet, consectetur adipiscing elit, sed do eiusmod.</p>\n",
      "\n",
      "        <h1>Rob</h1>\n",
      "        <h2>Economist</h2>\n",
      "        <p>Lorem ipsum dolor sit amet, consectetur adipiscing elit, sed do eiusmod tempor incididunt ut labore et.</p>\n",
      "\n",
      "\n",
      "        </body>\n",
      "        </html> \n",
      "        \n"
     ]
    }
   ],
   "source": [
    "html = r'''\n",
    "         <!DOCTYPE html>\n",
    "        <html>\n",
    "        <head>\n",
    "        <title>site</title>\n",
    "        </head>\n",
    "        <body>\n",
    "\n",
    "        <h1>Sam</h1>\n",
    "        <h2>Physicist</h2>\n",
    "        <p>Lorem ipsum dolor sit amet, consectetur adipiscing elit, sed do eiusmod.</p>\n",
    "\n",
    "        <h1>Rob</h1>\n",
    "        <h2>Economist</h2>\n",
    "        <p>Lorem ipsum dolor sit amet, consectetur adipiscing elit, sed do eiusmod tempor incididunt ut labore et.</p>\n",
    "\n",
    "\n",
    "        </body>\n",
    "        </html> \n",
    "        '''\n",
    "\n",
    "print(html)"
   ]
  },
  {
   "cell_type": "markdown",
   "metadata": {},
   "source": [
    "Now, if we are only interested in : \n",
    "- names i.e. the data inside the `<h1></h1>` tags, and\n",
    "- title i.e. the data inside the `<h2></h2>` tags\n",
    "we can extract the same using regex.\n"
   ]
  },
  {
   "cell_type": "markdown",
   "metadata": {},
   "source": [
    "Lets define the expressions (or patterns) to capture all text between the tags as follows :\n",
    "\n",
    "- `<h1>(.*?)</h1>` : capture all text contained within `<h1></h1>` tags\n",
    "- `<h2>(.*?)</h2>` : capture all text contained within `<h2></h2>` tags\n",
    "\n"
   ]
  },
  {
   "cell_type": "code",
   "execution_count": 101,
   "metadata": {},
   "outputs": [],
   "source": [
    "regex_h1 = re.compile('<h1>(.*?)</h1>')\n",
    "regex_h2 = re.compile('<h2>(.*?)</h2>')"
   ]
  },
  {
   "cell_type": "markdown",
   "metadata": {},
   "source": [
    "and use `findall()` to return all the instances that match with our pattern,"
   ]
  },
  {
   "cell_type": "code",
   "execution_count": 102,
   "metadata": {},
   "outputs": [
    {
     "name": "stdout",
     "output_type": "stream",
     "text": [
      "['Sam', 'Rob'] ['Physicist', 'Economist']\n"
     ]
    }
   ],
   "source": [
    "names = regex_h1.findall(html)\n",
    "titles = regex_h2.findall(html)\n",
    "\n",
    "print(names, titles)"
   ]
  },
  {
   "cell_type": "markdown",
   "metadata": {},
   "source": [
    "### From a web scraping perspective\n",
    "- `JSON` and `XML` are the most widely used formats to carry data all over the internet.\n",
    "- To work with `CSV`s (or `TSV`s), Pandas DataFrames are the de facto standard.\n",
    "- Regexes help us extract key pieces of information (sub-strings) from raw, messy and unstructured text (strings)."
   ]
  },
  {
   "cell_type": "markdown",
   "metadata": {},
   "source": [
    "### References\n",
    "\n",
    "- https://xkcd.com/353/\n",
    "- https://pandas.pydata.org/pandas-docs/stable/reference/api/pandas.DataFrame.html\n",
    "- https://realpython.com/regex-python/"
   ]
  }
 ],
 "metadata": {
  "kernelspec": {
   "display_name": "Python 3",
   "language": "python",
   "name": "python3"
  },
  "language_info": {
   "codemirror_mode": {
    "name": "ipython",
    "version": 3
   },
   "file_extension": ".py",
   "mimetype": "text/x-python",
   "name": "python",
   "nbconvert_exporter": "python",
   "pygments_lexer": "ipython3",
   "version": "3.7.10"
  }
 },
 "nbformat": 4,
 "nbformat_minor": 2
}
