{
 "cells": [
  {
   "cell_type": "markdown",
   "metadata": {},
   "source": [
    "[![Open In Colab](../images/colab-badge.svg)](https://colab.research.google.com/github/MonashDataFluency/python-web-scraping/blob/master/notebooks/section-4-wrangling-and-analysis.ipynb)"
   ]
  },
  {
   "cell_type": "markdown",
   "metadata": {},
   "source": [
    "In this section, we will clean, join perform some basic analysis on the data to answer a few questions. Let's import a few libraries we will require."
   ]
  },
  {
   "cell_type": "code",
   "execution_count": 2,
   "metadata": {},
   "outputs": [
    {
     "ename": "ModuleNotFoundError",
     "evalue": "No module named 'wordcloud'",
     "output_type": "error",
     "traceback": [
      "\u001b[1;31m---------------------------------------------------------------------------\u001b[0m",
      "\u001b[1;31mModuleNotFoundError\u001b[0m                       Traceback (most recent call last)",
      "\u001b[1;32m<ipython-input-2-13b902ce35d1>\u001b[0m in \u001b[0;36m<module>\u001b[1;34m\u001b[0m\n\u001b[0;32m      2\u001b[0m \u001b[1;32mimport\u001b[0m \u001b[0mjson\u001b[0m\u001b[1;33m\u001b[0m\u001b[1;33m\u001b[0m\u001b[0m\n\u001b[0;32m      3\u001b[0m \u001b[1;32mimport\u001b[0m \u001b[0mpandas\u001b[0m \u001b[1;32mas\u001b[0m \u001b[0mpd\u001b[0m\u001b[1;33m\u001b[0m\u001b[1;33m\u001b[0m\u001b[0m\n\u001b[1;32m----> 4\u001b[1;33m \u001b[1;32mfrom\u001b[0m \u001b[0mwordcloud\u001b[0m \u001b[1;32mimport\u001b[0m \u001b[0mWordCloud\u001b[0m\u001b[1;33m\u001b[0m\u001b[1;33m\u001b[0m\u001b[0m\n\u001b[0m\u001b[0;32m      5\u001b[0m \u001b[1;32mimport\u001b[0m \u001b[0mmatplotlib\u001b[0m\u001b[1;33m.\u001b[0m\u001b[0mpyplot\u001b[0m \u001b[1;32mas\u001b[0m \u001b[0mplt\u001b[0m\u001b[1;33m\u001b[0m\u001b[1;33m\u001b[0m\u001b[0m\n\u001b[0;32m      6\u001b[0m \u001b[1;33m\u001b[0m\u001b[0m\n",
      "\u001b[1;31mModuleNotFoundError\u001b[0m: No module named 'wordcloud'"
     ]
    }
   ],
   "source": [
    "import re \n",
    "import json\n",
    "import pandas as pd\n",
    "from wordcloud import WordCloud\n",
    "import matplotlib.pyplot as plt\n",
    "\n",
    "%matplotlib inline\n",
    "plt.style.use('ggplot') # setting the style to ggplot"
   ]
  },
  {
   "cell_type": "markdown",
   "metadata": {},
   "source": [
    "Now let's read the `infoboxes.json` file we exported from Section 3 to a dictionary as follows,"
   ]
  },
  {
   "cell_type": "code",
   "execution_count": null,
   "metadata": {},
   "outputs": [],
   "source": [
    "# If you dont have the file, you can use the below code to fetch it:\n",
    "import urllib.request\n",
    "url = 'https://raw.githubusercontent.com/MonashDataFluency/python-web-scraping/master/data/infoboxes.json'\n",
    "urllib.request.urlretrieve(url, 'infoboxes.json')"
   ]
  },
  {
   "cell_type": "code",
   "execution_count": null,
   "metadata": {},
   "outputs": [],
   "source": [
    "with open('infoboxes.json', 'r') as file:\n",
    "    wiki_data = json.load(file)"
   ]
  },
  {
   "cell_type": "markdown",
   "metadata": {},
   "source": [
    "and have a quick glance at the first element of the same,"
   ]
  },
  {
   "cell_type": "code",
   "execution_count": null,
   "metadata": {
    "scrolled": true
   },
   "outputs": [],
   "source": [
    "wiki_data[0]"
   ]
  },
  {
   "cell_type": "markdown",
   "metadata": {},
   "source": [
    " As evident from above, we can see that the data is in quite a messy format. For this excercise, we will primarily focus on the following attributes :\n",
    " \n",
    " - `products` \t\n",
    " - `industries` and \t\n",
    " - `assets`  \n",
    " \n",
    "and try to answer a few questions using the data."
   ]
  },
  {
   "cell_type": "markdown",
   "metadata": {},
   "source": [
    "### What type of products are sold by the top 20 companies?\n",
    "---"
   ]
  },
  {
   "cell_type": "markdown",
   "metadata": {},
   "source": [
    "Looking at a sample for `products`,"
   ]
  },
  {
   "cell_type": "code",
   "execution_count": null,
   "metadata": {
    "scrolled": false
   },
   "outputs": [],
   "source": [
    "for i in range(0,3):\n",
    "    print(wiki_data[i]['products'])\n",
    "    print('\\n')"
   ]
  },
  {
   "cell_type": "markdown",
   "metadata": {},
   "source": [
    "We can observe that we need to :\n",
    "\n",
    "- Extract only the products from between `{{` and `}}` or `[[` and `]]`, and\n",
    "- Only keep alphanumeric characters, `-` and preserve the spaces between"
   ]
  },
  {
   "cell_type": "markdown",
   "metadata": {},
   "source": [
    "Let's define a regular expressions to clean and extract the products from the dictionary."
   ]
  },
  {
   "cell_type": "code",
   "execution_count": null,
   "metadata": {},
   "outputs": [],
   "source": [
    "regex = re.compile(r'[\\w\\s-]+')"
   ]
  },
  {
   "cell_type": "markdown",
   "metadata": {},
   "source": [
    "Regex breakdown :\n",
    "\n",
    "- `\\w`: Indicates alphanumeric characters i.e. `a-z`, `A-z` and `0-9` \n",
    "- `\\s`: Indicates a space\n",
    "- `[..]`: Captures a single instance of the above (a single letter or number)\n",
    "- `+`: Captures one or more of the above"
   ]
  },
  {
   "cell_type": "markdown",
   "metadata": {},
   "source": [
    "> Note: `\\` is used for *escaping* and to avoid the regex from interpreting `\\w` and `\\s` as alphabets: `w` and `s`."
   ]
  },
  {
   "cell_type": "markdown",
   "metadata": {},
   "source": [
    "Also, we notice several words are part of HTML tags and not relevant to the data we require. Lets define a list called `rogue_words` to handle the same,"
   ]
  },
  {
   "cell_type": "code",
   "execution_count": null,
   "metadata": {},
   "outputs": [],
   "source": [
    "# list of words we want filtered out\n",
    "rogue_words = ['unbulleted list', 'hlist', 'flat list', 'flatlist', 'plainlist', 's', 'br', '']"
   ]
  },
  {
   "cell_type": "markdown",
   "metadata": {},
   "source": [
    "Now we can extract the `products` as follows,"
   ]
  },
  {
   "cell_type": "code",
   "execution_count": null,
   "metadata": {
    "scrolled": false
   },
   "outputs": [],
   "source": [
    "products = []\n",
    "data = []\n",
    "\n",
    "for x in wiki_data:\n",
    "    \n",
    "    product = x['products'].lower() # get products and lowercase them\n",
    "    # replace 'and' with '|' and ']]' with empty string\n",
    "    product = product.replace(' and ', '|').replace(']]', '')\n",
    "    product = regex.findall(product) # extract all alphanumeric occurences\n",
    "    product = [p.strip() for p in product] # get rid of leading or trailing whitespace\n",
    "    # filter rogue words and de-duplicate\n",
    "    product = list(set([p for p in product if p not in rogue_words])) \n",
    "    # add to data\n",
    "    data.append({\n",
    "                'wiki_title' : x['company_name'], \n",
    "                'product' : ', '.join(product)\n",
    "                })\n",
    "    # add to list of products\n",
    "    products.extend(product)\n",
    "    \n",
    "print(products)"
   ]
  },
  {
   "cell_type": "markdown",
   "metadata": {},
   "source": [
    "Now let's create a wordcloud function which will visually inform us about which products are more prominent than the others. The size of the word would indicate its frequency."
   ]
  },
  {
   "cell_type": "code",
   "execution_count": null,
   "metadata": {},
   "outputs": [],
   "source": [
    "def create_wordcloud(items, stopwords=[]):\n",
    "    '''create the wordcloud object\n",
    "    args\n",
    "    items :     the items we need to display\n",
    "    stopwords : a list of stopwords to filter out tokens\n",
    "    ''' \n",
    "    \n",
    "    text = ' '.join(items)\n",
    "    wordcloud = WordCloud(width=1600, \n",
    "                          height=800, \n",
    "                          margin=0, \n",
    "                          stopwords=stopwords\n",
    "                         ).generate(text) # optionally we can set max_words=20 \n",
    "    \n",
    "    plt.figure( figsize=(20,10)) # set the final figure size\n",
    "    plt.imshow(wordcloud, interpolation=\"bilinear\") # pass the image and set interpolation type\n",
    "    plt.axis(\"off\") # turn all axes off\n",
    "    plt.tight_layout(pad=0) # no padding\n",
    "    plt.show() # display plot"
   ]
  },
  {
   "cell_type": "markdown",
   "metadata": {},
   "source": [
    "Creating wordclouds for `products`,"
   ]
  },
  {
   "cell_type": "code",
   "execution_count": null,
   "metadata": {
    "scrolled": false
   },
   "outputs": [],
   "source": [
    "create_wordcloud(products)"
   ]
  },
  {
   "cell_type": "markdown",
   "metadata": {},
   "source": [
    "### What type of industries do the top 20 company belong from?\n",
    "---"
   ]
  },
  {
   "cell_type": "markdown",
   "metadata": {},
   "source": [
    "Similarly, looking at a sample for `industry`,"
   ]
  },
  {
   "cell_type": "code",
   "execution_count": 3,
   "metadata": {
    "scrolled": false
   },
   "outputs": [
    {
     "ename": "NameError",
     "evalue": "name 'wiki_data' is not defined",
     "output_type": "error",
     "traceback": [
      "\u001b[1;31m---------------------------------------------------------------------------\u001b[0m",
      "\u001b[1;31mNameError\u001b[0m                                 Traceback (most recent call last)",
      "\u001b[1;32m<ipython-input-3-2be7599f4034>\u001b[0m in \u001b[0;36m<module>\u001b[1;34m\u001b[0m\n\u001b[0;32m      1\u001b[0m \u001b[1;32mfor\u001b[0m \u001b[0mi\u001b[0m \u001b[1;32min\u001b[0m \u001b[0mrange\u001b[0m\u001b[1;33m(\u001b[0m\u001b[1;36m0\u001b[0m\u001b[1;33m,\u001b[0m\u001b[1;36m5\u001b[0m\u001b[1;33m)\u001b[0m\u001b[1;33m:\u001b[0m\u001b[1;33m\u001b[0m\u001b[1;33m\u001b[0m\u001b[0m\n\u001b[1;32m----> 2\u001b[1;33m     \u001b[0mprint\u001b[0m\u001b[1;33m(\u001b[0m\u001b[0mwiki_data\u001b[0m\u001b[1;33m[\u001b[0m\u001b[0mi\u001b[0m\u001b[1;33m]\u001b[0m\u001b[1;33m[\u001b[0m\u001b[1;34m'industry'\u001b[0m\u001b[1;33m]\u001b[0m\u001b[1;33m)\u001b[0m\u001b[1;33m\u001b[0m\u001b[1;33m\u001b[0m\u001b[0m\n\u001b[0m",
      "\u001b[1;31mNameError\u001b[0m: name 'wiki_data' is not defined"
     ]
    }
   ],
   "source": [
    "for i in range(0,5):\n",
    "    print(wiki_data[i]['industry'])"
   ]
  },
  {
   "cell_type": "markdown",
   "metadata": {},
   "source": [
    "We can observe that we need to :\n",
    "- Extract products from between `[[` and `]]`\n",
    "- Split and seperate by the delimiter `|`\n",
    "- Only keep alphanumeric characters, `-` and preserve spaces"
   ]
  },
  {
   "cell_type": "markdown",
   "metadata": {},
   "source": [
    "Using the same `regex` and `rogue_words` to clean and extract the industries,"
   ]
  },
  {
   "cell_type": "code",
   "execution_count": null,
   "metadata": {},
   "outputs": [],
   "source": [
    "industries = []\n",
    "for i, x in enumerate(wiki_data):\n",
    "    industry = x['industry'].lower() # get industries and lowercase\n",
    "    # replace 'and' with '|' and ']]' with empty space \n",
    "    industry = industry.replace(' and ', '|').replace(']]', '')\n",
    "    # extract all industries\n",
    "    industry = regex.findall(industry)\n",
    "    # strip trailing and leading spaces\n",
    "    industry = [i.strip() for i in industry]\n",
    "    # filter rogue words and de-duplicate\n",
    "    industry = list(set([i for i in industry if i not in rogue_words]))\n",
    "    # add to data\n",
    "    data[i]['industry'] = ', '.join(industry)\n",
    "    # add to list of industries\n",
    "    industries.extend(industry)\n",
    "    \n",
    "print(industries)"
   ]
  },
  {
   "cell_type": "markdown",
   "metadata": {},
   "source": [
    "Just as before let's create a wordcloud for `industry`,"
   ]
  },
  {
   "cell_type": "code",
   "execution_count": null,
   "metadata": {
    "scrolled": false
   },
   "outputs": [],
   "source": [
    "create_wordcloud(industries, ['industry']) # adding \"industry\" to the stopword list "
   ]
  },
  {
   "cell_type": "markdown",
   "metadata": {},
   "source": [
    "### What the assets of the top 20 companies look like?\n",
    "---"
   ]
  },
  {
   "cell_type": "markdown",
   "metadata": {},
   "source": [
    "Taking a look at a sample of `assets` below,"
   ]
  },
  {
   "cell_type": "code",
   "execution_count": null,
   "metadata": {
    "scrolled": false
   },
   "outputs": [],
   "source": [
    "for i in range(0,len(wiki_data)):\n",
    "    print(wiki_data[i]['assets'])"
   ]
  },
  {
   "cell_type": "markdown",
   "metadata": {},
   "source": [
    "We would need to :  \n",
    "\n",
    "- Extract both numbers and the unit i.e. `billion` or `trillion`  \n",
    "- Keep only the monetary values (discard year)\n",
    "\n",
    "We can also observe that the asset value always appears first and then the year follows."
   ]
  },
  {
   "cell_type": "markdown",
   "metadata": {},
   "source": [
    "Defining a simple regular expression for the same,"
   ]
  },
  {
   "cell_type": "code",
   "execution_count": null,
   "metadata": {},
   "outputs": [],
   "source": [
    "regex1 = re.compile('([\\d\\.]+)')"
   ]
  },
  {
   "cell_type": "markdown",
   "metadata": {},
   "source": [
    "Regex breakdown :\n",
    "\n",
    "- `([\\d\\.]+)`: matches and captures one or more `(+)` numbers `(0-9)` with decimal `(.)`."
   ]
  },
  {
   "cell_type": "code",
   "execution_count": null,
   "metadata": {},
   "outputs": [],
   "source": [
    "regex2 = re.compile('(billion|trillion)')"
   ]
  },
  {
   "cell_type": "markdown",
   "metadata": {},
   "source": [
    "Regex breakdown :\n",
    "\n",
    "- `(billion|trillion)`: matches and captures either `billion` or `trillion`"
   ]
  },
  {
   "cell_type": "code",
   "execution_count": null,
   "metadata": {
    "scrolled": false
   },
   "outputs": [],
   "source": [
    "assets = []\n",
    "for i, x in enumerate(wiki_data):\n",
    "    y = x['assets'] # get assets\n",
    "    z = regex1.findall(y)[0] # extract assets\n",
    "    unit = regex2.findall(y)[0] # extract the unit\n",
    "    asset = float(z) # convert to the numeric\n",
    "    data[i]['assets'] = str(asset) + ' ' + unit # add to data\n",
    "    # add to list of assets\n",
    "    assets.append({'company' : x['company_name'], 'value' : asset, 'unit' : unit})\n",
    "\n",
    "assets"
   ]
  },
  {
   "cell_type": "markdown",
   "metadata": {},
   "source": [
    "Since we have both `billion` as well as `trillion`, let's normalize all the values,"
   ]
  },
  {
   "cell_type": "code",
   "execution_count": null,
   "metadata": {
    "scrolled": false
   },
   "outputs": [],
   "source": [
    "for i, asset in enumerate(assets):\n",
    "    if asset['unit'] == 'trillion': # if unit is in trillion\n",
    "        assets[i]['value'] = asset['value'] * 1000 # convert trillion to billion\n",
    "        assets[i]['unit'] = 'billion'"
   ]
  },
  {
   "cell_type": "markdown",
   "metadata": {},
   "source": [
    "And create a new dataframe from the same,"
   ]
  },
  {
   "cell_type": "code",
   "execution_count": null,
   "metadata": {},
   "outputs": [],
   "source": [
    "df_assets = pd.DataFrame(assets)\n",
    "df_assets"
   ]
  },
  {
   "cell_type": "markdown",
   "metadata": {},
   "source": [
    "|    | company                  |    value | unit    |\n",
    "|---:|:-------------------------|---------:|:--------|\n",
    "|  0 | Walmart                  |  219.295 | billion |\n",
    "|  1 | ExxonMobil               |  346.2   | billion |\n",
    "|  2 | Berkshire Hathaway       |  707.8   | billion |\n",
    "|  3 | Apple Inc.               |  338.516 | billion |\n",
    "|  4 | UnitedHealth Group       |  173.889 | billion |\n",
    "|  5 | McKesson Corporation     |   60.381 | billion |\n",
    "|  6 | CVS Health               |  196.456 | billion |\n",
    "|  7 | Amazon (company)         |  162.648 | billion |\n",
    "|  8 | AT&T                     |  531     | billion |\n",
    "|  9 | General Motors           |  227.339 | billion |\n",
    "| 10 | Ford Motor Company       |  256.54  | billion |\n",
    "| 11 | AmerisourceBergen        |   37.66  | billion |\n",
    "| 12 | Chevron Corporation      |  253.9   | billion |\n",
    "| 13 | Cardinal Health          |   39.95  | billion |\n",
    "| 14 | Costco                   |   45.4   | billion |\n",
    "| 15 | Verizon Communications   |  264.82  | billion |\n",
    "| 16 | Kroger                   |   38.11  | billion |\n",
    "| 17 | General Electric         |  309.129 | billion |\n",
    "| 18 | Walgreens Boots Alliance |   67.59  | billion |\n",
    "| 19 | JPMorgan Chase           | 2687     | billion |\n"
   ]
  },
  {
   "cell_type": "markdown",
   "metadata": {},
   "source": [
    "Now finally let's create a bar plot showcasing the assets from all the companies,"
   ]
  },
  {
   "cell_type": "code",
   "execution_count": null,
   "metadata": {},
   "outputs": [],
   "source": [
    "ax = df_assets.plot(kind='bar', \n",
    "               title =\"Assets from the Top 20 Companies on Fortune 500\",\n",
    "               color='skyblue',\n",
    "               figsize=(15, 10), \n",
    "               legend=True, \n",
    "               fontsize=12\n",
    "              )\n",
    "\n",
    "ax.set_xticklabels(df_assets.company)\n",
    "ax.set_xlabel(\"Company Name\", fontsize=12)\n",
    "ax.set_ylabel(\"Assets (in Billions)\", fontsize=12)\n",
    "plt.show()"
   ]
  },
  {
   "cell_type": "markdown",
   "metadata": {},
   "source": [
    "Now let's create a new dataframe containing data related to `products`, `industry` and `assets` as follows,"
   ]
  },
  {
   "cell_type": "code",
   "execution_count": null,
   "metadata": {},
   "outputs": [],
   "source": [
    "df_wiki = pd.DataFrame(data)\n",
    "df_wiki.head()"
   ]
  },
  {
   "cell_type": "markdown",
   "metadata": {},
   "source": [
    "|    | wiki_title         | product                                                                                                                                                                                                                                                                                                   | industry                                                                                                                                                                                                        | assets          |\n",
    "|---:|:-------------------|:----------------------------------------------------------------------------------------------------------------------------------------------------------------------------------------------------------------------------------------------------------------------------------------------------------|:----------------------------------------------------------------------------------------------------------------------------------------------------------------------------------------------------------------|:----------------|\n",
    "|  0 | Walmart            | pet supplies, party supplies, clothing, footwear, photo finishing, fitness, auto, grocery, electronics, home, movies, sporting goods, toys, beauty, jewelry, craft supplies, home improvement, music, furniture, health                                                                                   | retail                                                                                                                                                                                                          | 219.295 billion |\n",
    "|  1 | ExxonMobil         | petrochemicals, crude oil, oil products, natural gas, power generation                                                                                                                                                                                                                                    | gas, energy, oil, energy industry, gas industry                                                                                                                                                                 | 346.2 billion   |\n",
    "|  2 | Berkshire Hathaway | food processing, casualty insurance, property, mass media, media, aerospace, insurance, final good, utilities, real estate, automotive industry, consumer products, internet, public utility, restaurants, sports equipment, sporting goods, toys, types, diversified investments, investment, automotive | company, conglomerate                                                                                                                                                                                           | 707.8 billion   |\n",
    "|  3 | Apple Inc.         | siri, iphone, watchos, tvos, shazam, ilife, iwork, final cut pro, ipod, application, apple watch, ipad, logic pro, macintosh, homepod, apple tv, macos, garageband, ios, ipados                                                                                                                           | fabless manufacturing, cloud computing, semiconductors, artificial intelligence, fabless silicon design, consumer electronics, computer software, financial technology, digital distribution, computer hardware | 338.516 billion |\n",
    "|  4 | UnitedHealth Group | health care, uniprise, service, specialized care services, ingenix, economics, services                                                                                                                                                                                                                   | managed health care                                                                                                                                                                                             | 173.889 billion |\n"
   ]
  },
  {
   "cell_type": "markdown",
   "metadata": {},
   "source": [
    "And finally let's combine the datasets from Section 2 and 3 as follows,"
   ]
  },
  {
   "cell_type": "code",
   "execution_count": null,
   "metadata": {
    "scrolled": true
   },
   "outputs": [],
   "source": [
    "# If you dont have the file, you can use the below code to fetch it:\n",
    "import urllib.request\n",
    "url = 'https://raw.githubusercontent.com/MonashDataFluency/python-web-scraping/master/data/fortune_500_companies.csv'\n",
    "urllib.request.urlretrieve(url, 'fortune_500_companies.csv')"
   ]
  },
  {
   "cell_type": "code",
   "execution_count": null,
   "metadata": {
    "scrolled": false
   },
   "outputs": [],
   "source": [
    "df = pd.read_csv('fortune_500_companies.csv', nrows=20) # reading only the first 20 rows\n",
    "df = pd.concat([df, df_wiki], axis=1) # concatenating both the datasets\n",
    "df"
   ]
  },
  {
   "cell_type": "markdown",
   "metadata": {},
   "source": [
    "|    |   rank | company_name             | company_website                       | wiki_title               | product                                                                                                                                                                                                                                                                                                                                                                                                                                                                                                                                                                                                                                                                                                                                                                                                                                                                                                                                                                                                                                                                                                                                                                                                                                                                                                                                                                                       | industry                                                                                                                                                                                                        | assets          |\n",
    "|---:|-------:|:-------------------------|:--------------------------------------|:-------------------------|:----------------------------------------------------------------------------------------------------------------------------------------------------------------------------------------------------------------------------------------------------------------------------------------------------------------------------------------------------------------------------------------------------------------------------------------------------------------------------------------------------------------------------------------------------------------------------------------------------------------------------------------------------------------------------------------------------------------------------------------------------------------------------------------------------------------------------------------------------------------------------------------------------------------------------------------------------------------------------------------------------------------------------------------------------------------------------------------------------------------------------------------------------------------------------------------------------------------------------------------------------------------------------------------------------------------------------------------------------------------------------------------------|:----------------------------------------------------------------------------------------------------------------------------------------------------------------------------------------------------------------|:----------------|\n",
    "|  0 |      1 | Walmart                  | http://www.stock.walmart.com          | Walmart                  | beauty, footwear, furniture, party supplies, auto, fitness, pet supplies, movies, electronics, jewelry, craft supplies, clothing, grocery, music, photo finishing, home improvement, home, toys, sporting goods, health                                                                                                                                                                                                                                                                                                                                                                                                                                                                                                                                                                                                                                                                                                                                                                                                                                                                                                                                                                                                                                                                                                                                                                       | retail                                                                                                                                                                                                          | 219.295 billion |\n",
    "|  1 |      2 | Exxon Mobil              | http://www.exxonmobil.com             | ExxonMobil               | oil products, petrochemicals, crude oil, power generation, natural gas                                                                                                                                                                                                                                                                                                                                                                                                                                                                                                                                                                                                                                                                                                                                                                                                                                                                                                                                                                                                                                                                                                                                                                                                                                                                                                                        | gas industry, gas, energy, energy industry, oil                                                                                                                                                                 | 346.2 billion   |\n",
    "|  2 |      3 | Berkshire Hathaway       | http://www.berkshirehathaway.com      | Berkshire Hathaway       | diversified investments, mass media, automotive industry, media, final good, internet, food processing, public utility, sports equipment, insurance, investment, restaurants, casualty insurance, real estate, types, aerospace, automotive, consumer products, property, utilities, toys, sporting goods                                                                                                                                                                                                                                                                                                                                                                                                                                                                                                                                                                                                                                                                                                                                                                                                                                                                                                                                                                                                                                                                                     | conglomerate, company                                                                                                                                                                                           | 707.8 billion   |\n",
    "|  3 |      4 | Apple                    | http://www.apple.com                  | Apple Inc.               | ipad, apple tv, ilife, application, ipados, siri, ios, shazam, iwork, ipod, homepod, macintosh, tvos, logic pro, garageband, watchos, apple watch, macos, iphone, final cut pro                                                                                                                                                                                                                                                                                                                                                                                                                                                                                                                                                                                                                                                                                                                                                                                                                                                                                                                                                                                                                                                                                                                                                                                                               | artificial intelligence, cloud computing, digital distribution, computer software, financial technology, computer hardware, semiconductors, consumer electronics, fabless manufacturing, fabless silicon design | 338.516 billion |\n",
    "|  4 |      5 | UnitedHealth Group       | http://www.unitedhealthgroup.com      | UnitedHealth Group       | ingenix, service, specialized care services, uniprise, health care, economics, services                                                                                                                                                                                                                                                                                                                                                                                                                                                                                                                                                                                                                                                                                                                                                                                                                                                                                                                                                                                                                                                                                                                                                                                                                                                                                                       | managed health care                                                                                                                                                                                             | 173.889 billion |\n",
    "|  5 |      6 | McKesson                 | http://www.mckesson.com               | McKesson Corporation     | pharmaceuticals, medical technology, health care services                                                                                                                                                                                                                                                                                                                                                                                                                                                                                                                                                                                                                                                                                                                                                                                                                                                                                                                                                                                                                                                                                                                                                                                                                                                                                                                                     | healthcare                                                                                                                                                                                                      | 60.381 billion  |\n",
    "|  6 |      7 | CVS Health               | http://www.cvshealth.com              | CVS Health               |                                                                                                                                                                                                                                                                                                                                                                                                                                                                                                                                                                                                                                                                                                                                                                                                                                                                                                                                                                                                                                                                                                                                                                                                                                                                                                                                                                                               | health care, retail                                                                                                                                                                                             | 196.456 billion |\n",
    "|  7 |      8 | Amazon.com               | http://www.amazon.com                 | Amazon (company)         | amazon fire os, fire os, amazon fire tablet, amazon kindle, amazon fire tv, amazon fire, amazon echo                                                                                                                                                                                                                                                                                                                                                                                                                                                                                                                                                                                                                                                                                                                                                                                                                                                                                                                                                                                                                                                                                                                                                                                                                                                                                          | artificial intelligence, e-commerce, cloud computing, digital distribution, consumer electronics, grocery stores                                                                                                | 162.648 billion |\n",
    "|  8 |      9 | AT&T                     | http://www.att.com                    | AT&T                     | film production, sports management, video games, landline, podcasts, publishing, pay television, satellite television, television production, internet service provider, network security, iptv, cable television, fixed-line telephones, ott services, mobile telephones, internet services, digital television, mobile phone, news agency, home security, over-the-top media services, broadband, filmmaking                                                                                                                                                                                                                                                                                                                                                                                                                                                                                                                                                                                                                                                                                                                                                                                                                                                                                                                                                                                | technology, entertainment, mass media, technology company, telecommunications industry, telecommunications                                                                                                      | 531.0 billion   |\n",
    "|  9 |     10 | General Motors           | http://www.gm.com                     | General Motors           | automobiles, car, automobile parts, commercial vehicles                                                                                                                                                                                                                                                                                                                                                                                                                                                                                                                                                                                                                                                                                                                                                                                                                                                                                                                                                                                                                                                                                                                                                                                                                                                                                                                                       | automotive, automotive industry                                                                                                                                                                                 | 227.339 billion |\n",
    "| 10 |     11 | Ford Motor               | http://www.corporate.ford.com         | Ford Motor Company       | automobiles, automotive parts, pickup trucks, car, luxury car, commercial vehicles, list of auto parts, suvs, luxury vehicles, commercial vehicle                                                                                                                                                                                                                                                                                                                                                                                                                                                                                                                                                                                                                                                                                                                                                                                                                                                                                                                                                                                                                                                                                                                                                                                                                                             | automotive, automotive industry                                                                                                                                                                                 | 256.54 billion  |\n",
    "| 11 |     12 | AmerisourceBergen        | http://www.amerisourcebergen.com      | AmerisourceBergen        | pharmacy services, pharmaceuticals                                                                                                                                                                                                                                                                                                                                                                                                                                                                                                                                                                                                                                                                                                                                                                                                                                                                                                                                                                                                                                                                                                                                                                                                                                                                                                                                                            | pharmaceutical                                                                                                                                                                                                  | 37.66 billion   |\n",
    "| 12 |     13 | Chevron                  | http://www.chevron.com                | Chevron Corporation      | other, see chevron products, petrochemicals, marketing brands, petroleum, natural gas                                                                                                                                                                                                                                                                                                                                                                                                                                                                                                                                                                                                                                                                                                                                                                                                                                                                                                                                                                                                                                                                                                                                                                                                                                                                                                         | gas, gas industry, oil                                                                                                                                                                                          | 253.9 billion   |\n",
    "| 13 |     14 | Cardinal Health          | http://www.cardinalhealth.com         | Cardinal Health          | pharmaceutical products, medical, services                                                                                                                                                                                                                                                                                                                                                                                                                                                                                                                                                                                                                                                                                                                                                                                                                                                                                                                                                                                                                                                                                                                                                                                                                                                                                                                                                    | pharmaceuticals                                                                                                                                                                                                 | 39.95 billion   |\n",
    "| 14 |     15 | Costco                   | http://www.costco.com                 | Costco                   |                                                                                                                                                                                                                                                                                                                                                                                                                                                                                                                                                                                                                                                                                                                                                                                                                                                                                                                                                                                                                                                                                                                                                                                                                                                                                                                                                                                               | retail                                                                                                                                                                                                          | 45.4 billion    |\n",
    "| 15 |     16 | Verizon                  | http://www.verizon.com                | Verizon Communications   | mobile phone, iptv, telematics, internet, cable television, broadband, internet of things, landline, digital media, digital television                                                                                                                                                                                                                                                                                                                                                                                                                                                                                                                                                                                                                                                                                                                                                                                                                                                                                                                                                                                                                                                                                                                                                                                                                                                        | telecommunications industry, telecommunications, mass media                                                                                                                                                     | 264.82 billion  |\n",
    "| 16 |     17 | Kroger                   | http://www.thekrogerco.com            | Kroger                   | superstore, other specialty, supermarket, supercenter                                                                                                                                                                                                                                                                                                                                                                                                                                                                                                                                                                                                                                                                                                                                                                                                                                                                                                                                                                                                                                                                                                                                                                                                                                                                                                                                         | retail                                                                                                                                                                                                          | 38.11 billion   |\n",
    "| 17 |     18 | General Electric         | http://www.ge.com                     | General Electric         | lighting, finance, wind turbines, electrical distribution, software, aircraft engines, energy, health care, electric power distribution, electric motors                                                                                                                                                                                                                                                                                                                                                                                                                                                                                                                                                                                                                                                                                                                                                                                                                                                                                                                                                                                                                                                                                                                                                                                                                                      | conglomerate, company                                                                                                                                                                                           | 309.129 billion |\n",
    "| 18 |     19 | Walgreens Boots Alliance | http://www.walgreensbootsalliance.com | Walgreens Boots Alliance | drug store, pharmacy                                                                                                                                                                                                                                                                                                                                                                                                                                                                                                                                                                                                                                                                                                                                                                                                                                                                                                                                                                                                                                                                                                                                                                                                                                                                                                                                                                          | pharmaceutical, retail                                                                                                                                                                                          | 67.59 billion   |\n",
    "| 19 |     20 | JPMorgan Chase           | http://www.jpmorganchase.com          | JPMorgan Chase           | broker services, finance, institutional investing, trustee services, currency exchange, debt settlement, financial markets, venture capital, foreign exchange market, loan servicing, mortgage brokers, index funds, investment banking, hedge funds, exchange-traded funds, mortgage-backed security, mortgage, mutual funds, underwriting, stock trading, security, investment management, prime brokerage, mortgage brokering, retail banking, backed securities, mortgage loans, bond, digital banking, merchant services, money market trading, american depositary receipts, financial analysis, credit cards, institutional investor, private equity, commodity market, insurance, capital market services, investment, retail, mobile banking, treasury services, alternative financial services, futures exchange, private banking, portfolios, subprime lending, bond trading, financial capital, custodian banking, commodities trading, risk management, pension funds, estate planning, brokerage, collateralized debt obligations, portfolio, asset management, securities lending, wholesale mortgage lenders, credit default swap, wealth management, remittance, wholesale mortgage lending, wire transfers, investment capital, credit derivative trading, information processing, security services, stock trader, asset allocation, wholesale funding, commercial banking | financial services, banking                                                                                                                                                                                     | 2.687 trillion  |"
   ]
  },
  {
   "cell_type": "markdown",
   "metadata": {},
   "source": [
    "And export them to a csv file,"
   ]
  },
  {
   "cell_type": "code",
   "execution_count": null,
   "metadata": {},
   "outputs": [],
   "source": [
    "df.to_csv('top_20_companies.csv', index=False)"
   ]
  },
  {
   "cell_type": "markdown",
   "metadata": {},
   "source": [
    "#### Challenge\n",
    "---\n",
    "Create a bar chart of `equity` of all the top 20 Fortune 500 companies and find out which has the highest value.\n",
    "\n",
    "---"
   ]
  }
 ],
 "metadata": {
  "kernelspec": {
   "display_name": "Python 3",
   "language": "python",
   "name": "python3"
  },
  "language_info": {
   "codemirror_mode": {
    "name": "ipython",
    "version": 3
   },
   "file_extension": ".py",
   "mimetype": "text/x-python",
   "name": "python",
   "nbconvert_exporter": "python",
   "pygments_lexer": "ipython3",
   "version": "3.7.7"
  }
 },
 "nbformat": 4,
 "nbformat_minor": 4
}
