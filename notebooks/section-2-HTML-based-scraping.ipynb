{
 "cells": [
  {
   "cell_type": "markdown",
   "metadata": {},
   "source": [
    "[![Open In Colab](../images/colab-badge.svg)](https://colab.research.google.com/github/MonashDataFluency/python-web-scraping/blob/master/notebooks/section-2-HTML-based-scraping.ipynb)"
   ]
  },
  {
   "cell_type": "markdown",
   "metadata": {},
   "source": [
    "<img src=\"../images/request.png\">"
   ]
  },
  {
   "cell_type": "markdown",
   "metadata": {},
   "source": [
    "In this section we will look at a few HTML fundamentals to understand how web scraping works and scrape a website for structured data"
   ]
  },
  {
   "cell_type": "markdown",
   "metadata": {},
   "source": [
    "### URL request and response\n",
    "---\n",
    "\n",
    "A **URL** is Uniform Resource Locator. It acts as a web address to different webpages. Every URL on the internet work on a request-response basis. The browser requests the server for a webpage and the response by the server would be the content of the webpage. This web content is then displayed on the browser.\n",
    "\n",
    "**URL Request** - Requesting a web server for content to be viewed by the user. This request is triggered whenever you click on a link or open a webpage.\n",
    "\n",
    "**URL Response** - A response for the request irrespective of success or failure. For every request to the web server, a mandatory response is provided by the web server and most of the times this would be the respective content requested by the URL Request."
   ]
  },
  {
   "cell_type": "markdown",
   "metadata": {},
   "source": [
    "### HTTP request, response, headers and status codes\n",
    "---"
   ]
  },
  {
   "cell_type": "markdown",
   "metadata": {},
   "source": [
    "Instead of the browser requesting for the content of the webpage, Python can be used for the same. A **HTTP request** to the web server can be sent with the `requests` library and the response can be examined. Typically every request receives a response with **response headers** and **status code** details.\n",
    "\n",
    "Let us request for the web content for the Monash University front webpage with the URL - `https://www.monash.edu/`. The requests library can be used to work with webpages and web content. A request is made to get the content of the webpage with the `get()` method."
   ]
  },
  {
   "cell_type": "code",
   "execution_count": 12,
   "metadata": {
    "ExecuteTime": {
     "end_time": "2020-05-03T02:29:29.737243Z",
     "start_time": "2020-05-03T02:29:28.965285Z"
    }
   },
   "outputs": [],
   "source": [
    "import requests\n",
    "\n",
    "monash_web_url = \"https://www.monash.edu/\"\n",
    "response = requests.get(monash_web_url)"
   ]
  },
  {
   "cell_type": "markdown",
   "metadata": {},
   "source": [
    "A response is received from the web server. This response will have response headers and status codes associated to that particular request.\n",
    "Response headers give the detailed information about the request made to the web server."
   ]
  },
  {
   "cell_type": "code",
   "execution_count": 13,
   "metadata": {
    "ExecuteTime": {
     "end_time": "2020-05-03T02:29:30.805860Z",
     "start_time": "2020-05-03T02:29:30.794537Z"
    }
   },
   "outputs": [
    {
     "data": {
      "text/plain": [
       "{'Content-Type': 'text/html; charset=utf-8', 'Transfer-Encoding': 'chunked', 'Connection': 'keep-alive', 'Vary': 'Accept-Encoding, Accept-Encoding', 'Cache-Control': 'max-age=0, private', 'Pragma': 'cache', 'Server': 'openresty', 'X-Content-Type-Options': 'nosniff', 'X-Cache': 'HIT from squizedge.net', 'Date': 'Sat, 17 Jul 2021 03:22:35 GMT', 'Age': '41', 'Via': '1.1 squizedge.net', 'X-upgrade-enabled': 'off', 'X-Frame-Options': 'SAMEORIGIN', 'Expires': 'Sat, 17 Jul 2021 03:52:31 GMT', 'X-Request-ID': 'c87280a6-ae71-4360-9275-cfca6ca24f56', 'Content-Encoding': 'gzip'}"
      ]
     },
     "execution_count": 13,
     "metadata": {},
     "output_type": "execute_result"
    }
   ],
   "source": [
    "response.headers"
   ]
  },
  {
   "cell_type": "markdown",
   "metadata": {},
   "source": [
    "Every response will have a status code. The status codes indicate whether a specific HTTP request has been successfully completed.\n",
    "Responses are grouped in five classes:\n",
    "\n",
    "- Informational responses `(100–199)`\n",
    "- Successful responses `(200–299)`\n",
    "- Redirects `(300–399)`\n",
    "- Client errors `(400–499)`\n",
    "- Server errors `(500–599)`\n",
    "\n",
    "Let us check the response status code for the HTTP request we placed"
   ]
  },
  {
   "cell_type": "code",
   "execution_count": 14,
   "metadata": {
    "ExecuteTime": {
     "end_time": "2020-05-03T02:44:38.348739Z",
     "start_time": "2020-05-03T02:44:38.340120Z"
    }
   },
   "outputs": [
    {
     "data": {
      "text/plain": [
       "200"
      ]
     },
     "execution_count": 14,
     "metadata": {},
     "output_type": "execute_result"
    }
   ],
   "source": [
    "response.status_code"
   ]
  },
  {
   "cell_type": "markdown",
   "metadata": {},
   "source": [
    "The response has a status code of `200`. This is a successful response and hence there should be relevant content of the webpage in the obtained response. This can be checked by printing the content. This content received is the HTML source code of the webpage."
   ]
  },
  {
   "cell_type": "code",
   "execution_count": 15,
   "metadata": {
    "ExecuteTime": {
     "end_time": "2020-05-03T02:29:33.564759Z",
     "start_time": "2020-05-03T02:29:33.556657Z"
    }
   },
   "outputs": [
    {
     "data": {
      "text/plain": [
       "b'\\n\\n\\n\\n<!DOCTYPE html>\\n<html lang=\"en\">\\n    <head>\\n        <meta charset=\"utf-8\" />\\n        <meta name=\"viewport\" content=\"width=device-width, initial-scale=1.0\">\\n        <title>Monash University - one of the top universities in Australia</title>\\n\\n        <link rel=\"canonical\" href=\"https://www.monash.edu\" />\\n        \\n        \\n        \\r\\n<!-- For iPad with high-resolution Retina display running iOS \\xe2\\x89\\xa5 7: -->\\r\\n<link rel=\"apple-touch-icon-precomposed\" sizes=\"152x152\" href=\"https://www.monash.edu/__data/assets/git_bridge/0006/509343/deploy/mysource_files/favicon-152.png\">\\r\\n\\r\\n<!-- For iPad with high-resolution Retina display running iOS \\xe2\\x89\\xa4 6: -->\\r\\n<link rel=\"apple-touch-icon-precomposed\" sizes=\"144x144\" href=\"https://www.monash.edu/__data/assets/git_bridge/0006/509343/deploy/mysource_files/favicon-144.png\">\\r\\n\\r\\n<!-- For iPhone with high-resolution Retina display running iOS \\xe2\\x89\\xa5 7: -->\\r\\n<link rel=\"apple-touch-icon-precomposed\" sizes=\"120x120\" href=\"https://www.monash.edu/__data/assets/git_bridge/0006/509343/deploy/mysource_files/favicon-120.png\">\\r\\n\\r\\n<!-- For iPhone with high-resolution Retina display running iOS \\xe2\\x89\\xa4 6: -->\\r\\n<link rel=\"apple-touch-icon-precomposed\" sizes=\"114x114\" href=\"https://www.monash.edu/__data/assets/git_bridge/0006/509343/deploy/mysource_files/favicon-114.png\">\\r\\n\\r\\n<!-- For first- and second-generation iPad: -->\\r\\n<link rel=\"apple-touch-icon-precomposed\" sizes=\"72x72\" href=\"https://www.monash.edu/__data/assets/git_bridge/0006/509343/deploy/mysource_files/favicon-72.png\">\\r\\n\\r\\n<!-- For non-Retina iPhone, iPod Touch, and Android 2.1+ devices: -->\\r\\n<link rel=\"apple-touch-icon-precomposed\" href=\"https://www.monash.edu/__data/assets/git_bridge/0006/509343/deploy/mysource_files/favicon-57.png\">\\r\\n\\r\\n<link rel=\"icon\" href=\"https://www.monash.edu/__data/assets/git_bridge/0006/509343/deploy/mysource_files/favicon.ico\">\\r\\n<!--[if IE]><link rel=\"shortcut icon\" type=\"image/x-icon\" href=\"https://www.monash.edu/__data/assets/git_bridge/0006/509343/deploy/mysource_files/fa'"
      ]
     },
     "execution_count": 15,
     "metadata": {},
     "output_type": "execute_result"
    }
   ],
   "source": [
    "response.content[:2000] # check the end index"
   ]
  },
  {
   "cell_type": "markdown",
   "metadata": {},
   "source": [
    "This text which looks very gibberish actually has a structure underneath. This can be observed if printed on a HTML editor.\n",
    "```html\n",
    "<!DOCTYPE html>\\n\n",
    "<html lang=\"en\">\\n\n",
    "\n",
    "<head>\\n\n",
    "    <meta charset=\"utf-8\" />\\n\n",
    "    <meta name=\"viewport\" content=\"width=device-width, initial-scale=1.0\">\\n\n",
    "    <title>Monash University - one of the top universities in Australia</title>\\n\\n\n",
    "    <link rel=\"canonical\" href=\"https://www.monash.edu\" />\\n \\n \\n \\r\\n\n",
    "    <!-- For iPad with high-resolution Retina display running iOS \\xe2\\x89\\xa5 7: -->\\r\\n\n",
    "    <link rel=\"apple-touch-icon-precomposed\" sizes=\"152x152\" href=\"https://www.monash.edu/__data/assets/git_bridge/0006/509343/deploy/mysource_files/favicon-152.png\">\\r\\n\\r\\n\n",
    "    <!-- For iPad with high-resolution Retina display running iOS \\xe2\\x89\\xa4 6: -->\\r\\n\n",
    "    <link rel=\"apple-touch-icon-precomposed\" sizes=\"144x144\" href=\"https://www.monash.edu/__data/assets/git_bridge/0006/509343/deploy/mysource_files/favicon-144.png\">\\r\\n\\r\\n\n",
    "    <!-- For iPhone with high-resolution Retina display running iOS \\xe2\\x89\\xa5 7: -->\\r\\n\n",
    "    <link rel=\"apple-touch-icon-precomposed\" sizes=\"120x120\" href=\"https://www.monash.edu/__data/assets/git_bridge/0006/509343/deploy/mysource_files/favicon-120.png\">\\r\\n\\r\\n\n",
    "    <!-- For iPhone with high-resolution Retina display running iOS \\xe2\\x89\\xa4 6: -->\\r\\n\n",
    "    <link rel=\"apple-touch-icon-precomposed\" sizes=\"114x114\" href=\"https://www.monash.edu/__data/assets/git_bridge/0006/509343/deploy/mysource_files/favicon-114.png\">\\r\\n\\r\\n\n",
    "    <!-- For first- and second-generation iPad: -->\\r\\n\n",
    "    <link rel=\"apple-touch-icon-precomposed\" sizes=\"72x72\" href=\"https://www.monash.edu/__data/assets/git_bridge/0006/509343/deploy/mysource_files/favicon-72.png\">\\r\\n\\r\\n\n",
    "    <!-- For non-Retina iPhone, iPod Touch, and Android 2.1+ devices: -->\\r\\n\n",
    "    <link rel=\"apple-touch-icon-precomposed\" href=\"https://www.monash.edu/__data/assets/git_bridge/0006/509343/deploy/mysource_files/favicon-57.png\">\\r\\n\\r\\n\n",
    "    <link rel=\"icon\" href=\"https://www.monash.edu/__data/assets/git_bridge/0006/509343/deploy/mysource_files/favicon.ico\">\\r\\n\n",
    "    <!--[if IE]><link rel=\"shortcut icon\" type=\"image/x-icon\" href=\"https://www.monash.edu/__data/assets/git_bridge/0006/509343/deploy/mysource_files/favico\n",
    "\n",
    "```"
   ]
  },
  {
   "cell_type": "markdown",
   "metadata": {},
   "source": [
    "### GET and POST calls to retrieve response\n",
    "---"
   ]
  },
  {
   "cell_type": "markdown",
   "metadata": {},
   "source": [
    "<img src=\"../images/get_post_requests.png\">\n",
    "\n",
    "There are mainly two types of requests which can be made to the web server. A GET request/call or a POST request/call.\n",
    "\n",
    "**GET call** - GET is used to request data from a specified source. They are one of the most common HTTP requests. They are usually used to only receive content from the web server. An example would be to receive the content of the complete webpage.\n",
    "\n",
    "**POST call** - POST is used to send data in the URL request to either update details or request specific content from the web server. In a POST call, data is sent and then a response can be expected from the web server. An example would be to request content from a web server based on a particular selection from a drop-down menu. The selection option is upadted while also respective content is sent back."
   ]
  },
  {
   "cell_type": "markdown",
   "metadata": {},
   "source": [
    "### Scraping a webpage\n",
    "---"
   ]
  },
  {
   "cell_type": "markdown",
   "metadata": {},
   "source": [
    "Let us now scrape a **list of the fotune 500 companies for the year 2018**. The website from which the data is to be scraped is [this](https://www.zyxware.com/articles/5914/list-of-fortune-500-companies-and-their-websites-2018).\n",
    "\n",
    "![fortune 500](../images/fortune_500.png)\n",
    "\n",
    "It can be seen on this website that the list contains the rank, company name and the website of the company. The whole content of this website can be received as a response when requested with the request library in Python"
   ]
  },
  {
   "cell_type": "code",
   "execution_count": 16,
   "metadata": {
    "ExecuteTime": {
     "end_time": "2020-05-03T02:35:43.505670Z",
     "start_time": "2020-05-03T02:35:38.774462Z"
    }
   },
   "outputs": [
    {
     "name": "stdout",
     "output_type": "stream",
     "text": [
      "Status code\n",
      " 200\n",
      "\n",
      "--\n",
      "\n",
      "Content of the website\n",
      " b'<!DOCTYPE html>\\n<html lang=\"en\" dir=\"ltr\" prefix=\"content: http://purl.org/rss/1.0/modules/content/  dc: http://purl.org/dc/terms/  foaf: http://xmlns.com/foaf/0.1/  og: http://ogp.me/ns#  rdfs: http://www.w3.org/2000/01/rdf-schema#  schema: http://schema.org/  sioc: http://rdfs.org/sioc/ns#  sioct: http://rdfs.org/sioc/types#  skos: http://www.w3.org/2004/02/skos/core#  xsd: http://www.w3.org/2001/XMLSchema# \">\\n  <head>\\n    <meta charset=\"utf-8\" />\\n<script>dataLayer = [];dataLayer.push({\"tag\": \"5914\"});</script>\\n<script>window.dataLayer = window.dataLayer || []; window.dataLayer.push({\"drupalLanguage\":\"en\",\"drupalCountry\":\"IN\",\"siteName\":\"Zyxware Technologies\",\"entityCreated\":\"1562300185\",\"entityLangcode\":\"en\",\"entityStatus\":\"1\",\"entityUid\":\"1\",\"entityUuid\":\"6fdfb477-ce5d-4081-9010-3afd9260cdf7\",\"entityVid\":\"15541\",\"entityName\":\"webmaster\",\"entityType\":\"node\",\"entityBundle\":\"story\",\"entityId\":\"5914\",\"entityTitle\":\"List of Fortune 500 companies and their websites (2018)\",\"contentType\":\"articles\",\"SubCategory1\":\"5914\",\"SubCategory2\":\"list-of-fortune-500-companies-and-their-websites-2018\",\"entityTaxonomy\":{\"vocabulary_2\":\"Business Insight, Fortune 500, Drupal Insight, Marketing Resources\"},\"userUid\":0});</script>\\n<script async src=\"https://www.googletagmanager.com/gtag/js?id=UA-1488254-2\"></script>\\n<script>window.google_analytics_uacct = \"UA-1488254-2\";window.dataLayer = window.dataLayer || [];function gtag(){dataLayer.push(arguments)};gtag(\"js\", new Date());window[\\'GoogleAnalyticsObject\\'] = \\'ga\\';\\r\\n  window[\\'ga\\'] = window[\\'ga\\'] || function() {\\r\\n    (window[\\'ga\\'].q = window[\\'ga\\'].q || []).push(arguments)\\r\\n  };\\r\\nga(\"set\", \"dimension2\", window.analytics_manager_node_age);\\r\\nga(\"set\", \"dimension3\", window.analytics_manager_node_author);gtag(\"config\", \"UA-1488254-2\", {\"groups\":\"default\",\"anonymize_ip\":true,\"page_path\":location.pathname + location.search + location.hash,\"link_attribution\":true,\"allow_ad_personalization_signals\":false});</script>\\n<link rel=\"canonical\" href=\"h'\n"
     ]
    }
   ],
   "source": [
    "import requests\n",
    "import pandas as pd\n",
    "from bs4 import BeautifulSoup\n",
    "\n",
    "web_url = 'https://www.zyxware.com/articles/5914/list-of-fortune-500-companies-and-their-websites-2018'\n",
    "response = requests.get(web_url)\n",
    "\n",
    "print('Status code\\n', response.status_code)\n",
    "print('\\n--\\n')\n",
    "print('Content of the website\\n', response.content[:2000])"
   ]
  },
  {
   "cell_type": "markdown",
   "metadata": {},
   "source": [
    "This text when formatted looks like this,\n",
    "\n",
    "```html\n",
    "<!DOCTYPE html>\\n\n",
    "<html lang=\"en\" dir=\"ltr\" prefix=\"content: http://purl.org/rss/1.0/modules/content/  dc: http://purl.org/dc/terms/  foaf: http://xmlns.com/foaf/0.1/  og: http://ogp.me/ns#  rdfs: http://www.w3.org/2000/01/rdf-schema#  schema: http://schema.org/  sioc: http://rdfs.org/sioc/ns#  sioct: http://rdfs.org/sioc/types#  skos: http://www.w3.org/2004/02/skos/core#  xsd: http://www.w3.org/2001/XMLSchema# \">\\n\n",
    "\n",
    "<head>\\n\n",
    "    <meta charset=\"utf-8\" />\\n\n",
    "    <script>\n",
    "        dataLayer = [];\n",
    "        dataLayer.push({\n",
    "            \"tag\": \"5914\"\n",
    "        });\n",
    "    </script>\\n\n",
    "    <script>\n",
    "        window.dataLayer = window.dataLayer || [];\n",
    "        window.dataLayer.push({\n",
    "            \"drupalLanguage\": \"en\",\n",
    "            \"drupalCountry\": \"IN\",\n",
    "            \"siteName\": \"Zyxware Technologies\",\n",
    "            \"entityCreated\": \"1562300185\",\n",
    "            \"entityLangcode\": \"en\",\n",
    "            \"entityStatus\": \"1\",\n",
    "            \"entityUid\": \"1\",\n",
    "            \"entityUuid\": \"6fdfb477-ce5d-4081-9010-3afd9260cdf7\",\n",
    "            \"entityVid\": \"15541\",\n",
    "            \"entityName\": \"webmaster\",\n",
    "            \"entityType\": \"node\",\n",
    "            \"entityBundle\": \"story\",\n",
    "            \"entityId\": \"5914\",\n",
    "            \"entityTitle\": \"List of Fortune 500 companies and their websites (2018)\",\n",
    "            \"entityTaxonomy\": {\n",
    "                \"vocabulary_2\": \"Business Insight, Fortune 500, Drupal Insight, Marketing Resources\"\n",
    "            },\n",
    "            \"userUid\": 0\n",
    "        });\n",
    "    </script>\\n\n",
    "    <script async src=\"https://www.googletagmanager.com/gtag/js?id=UA-1488254-2\"></script>\\n\n",
    "    <script>\n",
    "        window.google_analytics_uacct = \"UA-1488254-2\";\n",
    "        window.dataLayer = window.dataLayer || [];\n",
    "\n",
    "        function gtag() {\n",
    "            dataLayer.push(arguments)\n",
    "        };\n",
    "        gtag(\"js\", new Date());\n",
    "        window[\\'GoogleAnalyticsObject\\'] = \\'ga\\';\\r\\n  window[\\'ga\\'] = window[\\'ga\\'] || function() {\\r\\n    (window[\\'ga\\'].q = window[\\'ga\\'].q || []).push(arguments)\\r\\n  };\\r\\nga(\"set\", \"dimension2\", window.analytics_manager_node_age);\\r\\nga(\"set\", \"dimension3\", window.analytics_manager_node_author);gtag(\"config\", \"UA-1488254-2\", {\"groups\":\"default\",\"anonymize_ip\":true,\"page_path\":location.pathname + location.search + location.hash,\"link_attribution\":true,\"allow_ad_personalization_signals\":false});\n",
    "    </script>\\n\n",
    "    <meta name=\"title\" content=\"List of Fortune 500 companies and their websites (2018) | Zyxware Technologies\" />\n",
    "    \n",
    "    .. and so on\n",
    "```"
   ]
  },
  {
   "cell_type": "markdown",
   "metadata": {},
   "source": [
    "> Note : It is always a good idea to \"prettify\" HTML, XML or JSON strings for visual clarity."
   ]
  },
  {
   "cell_type": "markdown",
   "metadata": {},
   "source": [
    "### Parsing HTML and accessing different elements\n",
    "---\n",
    "\n",
    "`bs4` is a Python library which parses through HTML content and understands the complete structure of the content. The response content can be passed to a `BeautifulSoup()` method to obtain a soup object which looks very structured."
   ]
  },
  {
   "cell_type": "code",
   "execution_count": 17,
   "metadata": {
    "ExecuteTime": {
     "end_time": "2020-05-03T02:47:30.721795Z",
     "start_time": "2020-05-03T02:47:30.586086Z"
    }
   },
   "outputs": [],
   "source": [
    "soup_object = BeautifulSoup(response.content)\n",
    "\n",
    "# Uncomment the below line and look into the contents of soup_object\n",
    "# soup_object"
   ]
  },
  {
   "cell_type": "markdown",
   "metadata": {},
   "source": [
    "### Explore the schema: Manipulating it into a tabular structure\n",
    "---\n",
    "To be able to accurately extract relevant data from the webpage, it is important to explore the schema and understand the structure of the webpage. A good way to do this is to inspect the webpage directly on a web browser.\n",
    "<br>\n",
    "\n",
    "To do this,\n",
    "- Open the webpage on a browser\n",
    "- Right click on the data content to be extracted\n",
    "- Click on `Inspect` or `Inspect element` option\n",
    "\n",
    "This will open a console window which shows the real time HTML code corresponding to the web content. Now identify the type of HTML tag which contains all the data along with any id names or class names associated to that HTML tag. In our case, the data is enclosed in the `<table>` HTML tag with the class name `'data-table'`. This information can be used to search for the web content directly in our soup object with the `find_all()` method. This will return a soup object."
   ]
  },
  {
   "cell_type": "code",
   "execution_count": 18,
   "metadata": {
    "ExecuteTime": {
     "end_time": "2020-05-03T03:03:56.351283Z",
     "start_time": "2020-05-03T03:03:56.325457Z"
    }
   },
   "outputs": [],
   "source": [
    "data_table = soup_object.find_all('table', 'data-table')[0]\n",
    "\n",
    "# Uncomment the below line and look into the contents of data_table\n",
    "# data_table"
   ]
  },
  {
   "cell_type": "markdown",
   "metadata": {},
   "source": [
    "It can be seen that relevant block of data has been extracted but further extracted needs to be done to individually extract the rank, company name and the company website data. On further analysis, it can be seen that every row of data is enclosed under a `<tr>` HTML tag which means `table row`. All these row values can be extracted into a list of values by finding the `<tr>` values from our newly created soup object `data_table`."
   ]
  },
  {
   "cell_type": "code",
   "execution_count": 19,
   "metadata": {
    "ExecuteTime": {
     "end_time": "2020-05-03T03:03:57.387683Z",
     "start_time": "2020-05-03T03:03:57.376570Z"
    },
    "scrolled": false
   },
   "outputs": [
    {
     "data": {
      "text/plain": [
       "[<tr>\n",
       " <th>Rank</th>\n",
       " <th>Company</th>\n",
       " <th>Website</th>\n",
       " </tr>,\n",
       " <tr>\n",
       " <td>1</td>\n",
       " <td>Walmart</td>\n",
       " <td><a href=\"http://www.stock.walmart.com\">http://www.stock.walmart.com</a></td>\n",
       " </tr>,\n",
       " <tr>\n",
       " <td>2</td>\n",
       " <td>Exxon Mobil</td>\n",
       " <td><a href=\"http://www.exxonmobil.com\">http://www.exxonmobil.com</a></td>\n",
       " </tr>,\n",
       " <tr>\n",
       " <td>3</td>\n",
       " <td>Berkshire Hathaway</td>\n",
       " <td><a href=\"http://www.berkshirehathaway.com\">http://www.berkshirehathaway.com</a></td>\n",
       " </tr>,\n",
       " <tr>\n",
       " <td>4</td>\n",
       " <td>Apple</td>\n",
       " <td><a href=\"https://www.apple.com\">http://www.apple.com</a></td>\n",
       " </tr>,\n",
       " <tr>\n",
       " <td>5</td>\n",
       " <td>UnitedHealth Group</td>\n",
       " <td><a href=\"http://www.unitedhealthgroup.com\">http://www.unitedhealthgroup.com</a></td>\n",
       " </tr>,\n",
       " <tr>\n",
       " <td>6</td>\n",
       " <td>McKesson</td>\n",
       " <td><a href=\"http://www.mckesson.com\">http://www.mckesson.com</a></td>\n",
       " </tr>,\n",
       " <tr>\n",
       " <td>7</td>\n",
       " <td>CVS Health</td>\n",
       " <td><a href=\"http://www.cvshealth.com\">http://www.cvshealth.com</a></td>\n",
       " </tr>,\n",
       " <tr>\n",
       " <td>8</td>\n",
       " <td>Amazon.com</td>\n",
       " <td><a href=\"https://www.amazon.com\">http://www.amazon.com</a></td>\n",
       " </tr>,\n",
       " <tr>\n",
       " <td>9</td>\n",
       " <td>AT&amp;T</td>\n",
       " <td><a href=\"https://www.att.com\">http://www.att.com</a></td>\n",
       " </tr>]"
      ]
     },
     "execution_count": 19,
     "metadata": {},
     "output_type": "execute_result"
    }
   ],
   "source": [
    "all_values = data_table.find_all('tr')\n",
    "all_values[:10] # Prints the first 10 captured tag elements"
   ]
  },
  {
   "cell_type": "code",
   "execution_count": 20,
   "metadata": {
    "ExecuteTime": {
     "end_time": "2020-05-03T03:03:59.632162Z",
     "start_time": "2020-05-03T03:03:59.626762Z"
    },
    "scrolled": true
   },
   "outputs": [
    {
     "name": "stdout",
     "output_type": "stream",
     "text": [
      "<tr>\n",
      "<th>Rank</th>\n",
      "<th>Company</th>\n",
      "<th>Website</th>\n",
      "</tr>\n",
      "--\n",
      "<tr>\n",
      "<td>1</td>\n",
      "<td>Walmart</td>\n",
      "<td><a href=\"http://www.stock.walmart.com\">http://www.stock.walmart.com</a></td>\n",
      "</tr>\n",
      "--\n",
      "<tr>\n",
      "<td>2</td>\n",
      "<td>Exxon Mobil</td>\n",
      "<td><a href=\"http://www.exxonmobil.com\">http://www.exxonmobil.com</a></td>\n",
      "</tr>\n"
     ]
    }
   ],
   "source": [
    "print(all_values[0])\n",
    "print('--')\n",
    "print(all_values[1])\n",
    "print('--')\n",
    "print(all_values[2])"
   ]
  },
  {
   "cell_type": "markdown",
   "metadata": {},
   "source": [
    "#### Challenge\n",
    "---\n",
    " Explore the schema further, extract the column names which are located in the first row and print them.\n",
    " \n",
    " ---"
   ]
  },
  {
   "cell_type": "markdown",
   "metadata": {},
   "source": [
    "The first element of the list contains the column names 'Rank, Company and Website'. The next elements of the list contain soup objects which contain the company data including the rank. This data can be extracted in a loop since the structure for all the list elements is the same.\n",
    "\n",
    "- An empty dataframe `fortune_500_df` is created with the column names `rank`, `company_name` and `company_website`\n",
    "- The index is initiated to zero\n",
    "- A for loop is designed to go through all the elements of the list in order and extract the rank, company name and company website from the list element which are enclosed in the `<td>` HTML tag. A `find_all()` will return a list of td tags.\n",
    "- The `.text` attribute can be used to just pick the text part from the tag. In our case this is the rank, company name and the company website\n",
    "- These values are then put into the dataframe and the index value is incremented"
   ]
  },
  {
   "cell_type": "code",
   "execution_count": 21,
   "metadata": {
    "ExecuteTime": {
     "end_time": "2020-05-03T03:04:03.018048Z",
     "start_time": "2020-05-03T03:04:01.845623Z"
    }
   },
   "outputs": [
    {
     "data": {
      "text/html": [
       "<div>\n",
       "<style scoped>\n",
       "    .dataframe tbody tr th:only-of-type {\n",
       "        vertical-align: middle;\n",
       "    }\n",
       "\n",
       "    .dataframe tbody tr th {\n",
       "        vertical-align: top;\n",
       "    }\n",
       "\n",
       "    .dataframe thead th {\n",
       "        text-align: right;\n",
       "    }\n",
       "</style>\n",
       "<table border=\"1\" class=\"dataframe\">\n",
       "  <thead>\n",
       "    <tr style=\"text-align: right;\">\n",
       "      <th></th>\n",
       "      <th>rank</th>\n",
       "      <th>company_name</th>\n",
       "      <th>company_website</th>\n",
       "    </tr>\n",
       "  </thead>\n",
       "  <tbody>\n",
       "    <tr>\n",
       "      <th>0</th>\n",
       "      <td>1</td>\n",
       "      <td>Walmart</td>\n",
       "      <td>http://www.stock.walmart.com</td>\n",
       "    </tr>\n",
       "    <tr>\n",
       "      <th>1</th>\n",
       "      <td>2</td>\n",
       "      <td>Exxon Mobil</td>\n",
       "      <td>http://www.exxonmobil.com</td>\n",
       "    </tr>\n",
       "    <tr>\n",
       "      <th>2</th>\n",
       "      <td>3</td>\n",
       "      <td>Berkshire Hathaway</td>\n",
       "      <td>http://www.berkshirehathaway.com</td>\n",
       "    </tr>\n",
       "    <tr>\n",
       "      <th>3</th>\n",
       "      <td>4</td>\n",
       "      <td>Apple</td>\n",
       "      <td>http://www.apple.com</td>\n",
       "    </tr>\n",
       "    <tr>\n",
       "      <th>4</th>\n",
       "      <td>5</td>\n",
       "      <td>UnitedHealth Group</td>\n",
       "      <td>http://www.unitedhealthgroup.com</td>\n",
       "    </tr>\n",
       "  </tbody>\n",
       "</table>\n",
       "</div>"
      ],
      "text/plain": [
       "  rank        company_name                   company_website\n",
       "0    1             Walmart      http://www.stock.walmart.com\n",
       "1    2         Exxon Mobil         http://www.exxonmobil.com\n",
       "2    3  Berkshire Hathaway  http://www.berkshirehathaway.com\n",
       "3    4               Apple              http://www.apple.com\n",
       "4    5  UnitedHealth Group  http://www.unitedhealthgroup.com"
      ]
     },
     "execution_count": 21,
     "metadata": {},
     "output_type": "execute_result"
    }
   ],
   "source": [
    "fortune_500_df = pd.DataFrame(columns = ['rank', 'company_name', 'company_website']) # Create an empty dataframe\n",
    "ix = 0 # Initialise index to zero\n",
    "\n",
    "for row in all_values[1:]:\n",
    "    values = row.find_all('td') # Extract all elements with tag <td>\n",
    "    # Pick only the text part from the <td> tag\n",
    "    rank = values[0].text\n",
    "    company = values[1].text\n",
    "    website = values[2].text\n",
    "    \n",
    "    fortune_500_df.loc[ix] = [rank, company, website] # Store it in the dataframe as a row\n",
    "    ix += 1\n",
    "    \n",
    "# Print the first 5 rows of the dataframe\n",
    "fortune_500_df.head()"
   ]
  },
  {
   "cell_type": "markdown",
   "metadata": {},
   "source": [
    "|    |   rank | company_name       | company_website                  |\n",
    "|---:|-------:|:-------------------|:---------------------------------|\n",
    "|  0 |      1 | Walmart            | http://www.stock.walmart.com     |\n",
    "|  1 |      2 | Exxon Mobil        | http://www.exxonmobil.com        |\n",
    "|  2 |      3 | Berkshire Hathaway | http://www.berkshirehathaway.com |\n",
    "|  3 |      4 | Apple              | http://www.apple.com             |\n",
    "|  4 |      5 | UnitedHealth Group | http://www.unitedhealthgroup.com |\n"
   ]
  },
  {
   "cell_type": "markdown",
   "metadata": {},
   "source": [
    "### Store it in the appropriate format\n",
    "---"
   ]
  },
  {
   "cell_type": "markdown",
   "metadata": {},
   "source": [
    "The dataframe can now be stored as a csv file. Pandas has a `to_csv` method which can be used to save the data into the file."
   ]
  },
  {
   "cell_type": "code",
   "execution_count": 22,
   "metadata": {
    "ExecuteTime": {
     "end_time": "2020-02-10T06:26:05.078368Z",
     "start_time": "2020-02-10T06:26:05.066414Z"
    }
   },
   "outputs": [],
   "source": [
    "fortune_500_df.to_csv('fortune_500_companies.csv', index=False)"
   ]
  }
 ],
 "metadata": {
  "kernelspec": {
   "display_name": "Python 3",
   "language": "python",
   "name": "python3"
  },
  "language_info": {
   "codemirror_mode": {
    "name": "ipython",
    "version": 3
   },
   "file_extension": ".py",
   "mimetype": "text/x-python",
   "name": "python",
   "nbconvert_exporter": "python",
   "pygments_lexer": "ipython3",
   "version": "3.7.10"
  }
 },
 "nbformat": 4,
 "nbformat_minor": 2
}
