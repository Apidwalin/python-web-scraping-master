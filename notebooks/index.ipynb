{
 "cells": [
  {
   "cell_type": "markdown",
   "metadata": {},
   "source": [
    "# Getting Started\n",
    "\n",
    "<img src=\"https://monashdatafluency.github.io/python-web-scraping/images/scraping.png\">\n",
    "\n",
    "This is an introductory course to Web Scraping using Python.\n",
    "\n",
    "## Prerequisites\n",
    "\n",
    "Some exposure to Python and Google Colab (or Jupyter Notebook) is assumed, for example from attending the Data Fluency's [Introduction to Python](https://monashdatafluency.github.io/python-workshop-base/fullday/) workshop.\n",
    "\n",
    "## Setup Requirements\n",
    "\n",
    "Attendees will be required to bring a laptop with Firefox or Google Chrome installed. A Google/Monash account is required (for accessing the Colab environment).\n",
    "\n"
   ]
  }
 ],
 "metadata": {
  "kernelspec": {
   "display_name": "Python 3",
   "language": "python",
   "name": "python3"
  },
  "language_info": {
   "codemirror_mode": {
    "name": "ipython",
    "version": 3
   },
   "file_extension": ".py",
   "mimetype": "text/x-python",
   "name": "python",
   "nbconvert_exporter": "python",
   "pygments_lexer": "ipython3",
   "version": "3.7.10"
  }
 },
 "nbformat": 4,
 "nbformat_minor": 2
}
