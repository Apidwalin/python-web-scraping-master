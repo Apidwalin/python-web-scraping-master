{
 "cells": [
  {
   "cell_type": "markdown",
   "metadata": {
    "colab_type": "text",
    "id": "Bp8t2AI8i7uP"
   },
   "source": [
    "##### Copyright 2020 The TensorFlow Authors."
   ]
  },
  {
   "cell_type": "code",
   "execution_count": 4,
   "metadata": {
    "cellView": "form",
    "colab": {},
    "colab_type": "code",
    "id": "rxPj2Lsni9O4"
   },
   "outputs": [],
   "source": [
    "#@title Licensed under the Apache License, Version 2.0 (the \"License\");\n",
    "# you may not use this file except in compliance with the License.\n",
    "# You may obtain a copy of the License at\n",
    "#\n",
    "# https://www.apache.org/licenses/LICENSE-2.0\n",
    "#\n",
    "# Unless required by applicable law or agreed to in writing, software\n",
    "# distributed under the License is distributed on an \"AS IS\" BASIS,\n",
    "# WITHOUT WARRANTIES OR CONDITIONS OF ANY KIND, either express or implied.\n",
    "# See the License for the specific language governing permissions and\n",
    "# limitations under the License."
   ]
  },
  {
   "cell_type": "markdown",
   "metadata": {
    "colab_type": "text",
    "id": "6xS-9i5DrRvO"
   },
   "source": [
    "# Customizing a Transformer Encoder"
   ]
  },
  {
   "cell_type": "markdown",
   "metadata": {
    "colab_type": "text",
    "id": "Mwb9uw1cDXsa"
   },
   "source": [
    "<table class=\"tfo-notebook-buttons\" align=\"left\">\n",
    "  <td>\n",
    "    <a target=\"_blank\" href=\"https://www.tensorflow.org/official_models/nlp/customize_encoder\"><img src=\"https://www.tensorflow.org/images/tf_logo_32px.png\" />View on TensorFlow.org</a>\n",
    "  </td>\n",
    "  <td>\n",
    "    <a target=\"_blank\" href=\"https://colab.research.google.com/github/tensorflow/models/blob/master/official/colab/nlp/customize_encoder.ipynb\"><img src=\"https://www.tensorflow.org/images/colab_logo_32px.png\" />Run in Google Colab</a>\n",
    "  </td>\n",
    "  <td>\n",
    "    <a target=\"_blank\" href=\"https://github.com/tensorflow/models/blob/master/official/colab/nlp/customize_encoder.ipynb\"><img src=\"https://www.tensorflow.org/images/GitHub-Mark-32px.png\" />View source on GitHub</a>\n",
    "  </td>\n",
    "  <td>\n",
    "    <a href=\"https://storage.googleapis.com/tensorflow_docs/models/official/colab/nlp/customize_encoder.ipynb\"><img src=\"https://www.tensorflow.org/images/download_logo_32px.png\" />Download notebook</a>\n",
    "  </td>\n",
    "</table>"
   ]
  },
  {
   "cell_type": "markdown",
   "metadata": {
    "colab_type": "text",
    "id": "iLrcV4IyrcGX"
   },
   "source": [
    "## Learning objectives\n",
    "\n",
    "The [TensorFlow Models NLP library](https://github.com/tensorflow/models/tree/master/official/nlp/modeling) is a collection of tools for building and training modern high performance natural language models.\n",
    "\n",
    "The [TransformEncoder](https://github.com/tensorflow/models/blob/master/official/nlp/modeling/networks/encoder_scaffold.py) is the core of this library, and lots of new network architectures are proposed to improve the encoder. In this Colab notebook, we will learn how to customize the encoder to employ new network architectures."
   ]
  },
  {
   "cell_type": "markdown",
   "metadata": {
    "colab_type": "text",
    "id": "YYxdyoWgsl8t"
   },
   "source": [
    "## Install and import"
   ]
  },
  {
   "cell_type": "markdown",
   "metadata": {
    "colab_type": "text",
    "id": "fEJSFutUsn_h"
   },
   "source": [
    "### Install the TensorFlow Model Garden pip package\n",
    "\n",
    "*  `tf-models-official` is the stable Model Garden package. Note that it may not include the latest changes in the `tensorflow_models` github repo. To include latest changes, you may install `tf-models-nightly`,\n",
    "which is the nightly Model Garden package created daily automatically.\n",
    "*  `pip` will install all models and dependencies automatically."
   ]
  },
  {
   "cell_type": "code",
   "execution_count": 5,
   "metadata": {
    "colab": {},
    "colab_type": "code",
    "id": "thsKZDjhswhR"
   },
   "outputs": [
    {
     "name": "stderr",
     "output_type": "stream",
     "text": [
      "ERROR: Exception:\n",
      "Traceback (most recent call last):\n",
      "  File \"C:\\Users\\Apidwalin\\Anaconda3\\envs\\tf\\lib\\site-packages\\pip\\_vendor\\urllib3\\response.py\", line 437, in _error_catcher\n",
      "    yield\n",
      "  File \"C:\\Users\\Apidwalin\\Anaconda3\\envs\\tf\\lib\\site-packages\\pip\\_vendor\\urllib3\\response.py\", line 519, in read\n",
      "    data = self._fp.read(amt) if not fp_closed else b\"\"\n",
      "  File \"C:\\Users\\Apidwalin\\Anaconda3\\envs\\tf\\lib\\site-packages\\pip\\_vendor\\cachecontrol\\filewrapper.py\", line 62, in read\n",
      "    data = self.__fp.read(amt)\n",
      "  File \"C:\\Users\\Apidwalin\\Anaconda3\\envs\\tf\\lib\\http\\client.py\", line 457, in read\n",
      "    n = self.readinto(b)\n",
      "  File \"C:\\Users\\Apidwalin\\Anaconda3\\envs\\tf\\lib\\http\\client.py\", line 501, in readinto\n",
      "    n = self.fp.readinto(b)\n",
      "  File \"C:\\Users\\Apidwalin\\Anaconda3\\envs\\tf\\lib\\socket.py\", line 589, in readinto\n",
      "    return self._sock.recv_into(b)\n",
      "  File \"C:\\Users\\Apidwalin\\Anaconda3\\envs\\tf\\lib\\ssl.py\", line 1071, in recv_into\n",
      "    return self.read(nbytes, buffer)\n",
      "  File \"C:\\Users\\Apidwalin\\Anaconda3\\envs\\tf\\lib\\ssl.py\", line 929, in read\n",
      "    return self._sslobj.read(len, buffer)\n",
      "socket.timeout: The read operation timed out\n",
      "\n",
      "During handling of the above exception, another exception occurred:\n",
      "\n",
      "Traceback (most recent call last):\n",
      "  File \"C:\\Users\\Apidwalin\\Anaconda3\\envs\\tf\\lib\\site-packages\\pip\\_internal\\cli\\base_command.py\", line 216, in _main\n",
      "    status = self.run(options, args)\n",
      "  File \"C:\\Users\\Apidwalin\\Anaconda3\\envs\\tf\\lib\\site-packages\\pip\\_internal\\cli\\req_command.py\", line 182, in wrapper\n",
      "    return func(self, options, args)\n",
      "  File \"C:\\Users\\Apidwalin\\Anaconda3\\envs\\tf\\lib\\site-packages\\pip\\_internal\\commands\\install.py\", line 325, in run\n",
      "    reqs, check_supported_wheels=not options.target_dir\n",
      "  File \"C:\\Users\\Apidwalin\\Anaconda3\\envs\\tf\\lib\\site-packages\\pip\\_internal\\resolution\\legacy\\resolver.py\", line 183, in resolve\n",
      "    discovered_reqs.extend(self._resolve_one(requirement_set, req))\n",
      "  File \"C:\\Users\\Apidwalin\\Anaconda3\\envs\\tf\\lib\\site-packages\\pip\\_internal\\resolution\\legacy\\resolver.py\", line 388, in _resolve_one\n",
      "    abstract_dist = self._get_abstract_dist_for(req_to_install)\n",
      "  File \"C:\\Users\\Apidwalin\\Anaconda3\\envs\\tf\\lib\\site-packages\\pip\\_internal\\resolution\\legacy\\resolver.py\", line 340, in _get_abstract_dist_for\n",
      "    abstract_dist = self.preparer.prepare_linked_requirement(req)\n",
      "  File \"C:\\Users\\Apidwalin\\Anaconda3\\envs\\tf\\lib\\site-packages\\pip\\_internal\\operations\\prepare.py\", line 469, in prepare_linked_requirement\n",
      "    hashes=self._get_linked_req_hashes(req)\n",
      "  File \"C:\\Users\\Apidwalin\\Anaconda3\\envs\\tf\\lib\\site-packages\\pip\\_internal\\operations\\prepare.py\", line 259, in unpack_url\n",
      "    hashes=hashes,\n",
      "  File \"C:\\Users\\Apidwalin\\Anaconda3\\envs\\tf\\lib\\site-packages\\pip\\_internal\\operations\\prepare.py\", line 130, in get_http_url\n",
      "    link, downloader, temp_dir.path, hashes\n",
      "  File \"C:\\Users\\Apidwalin\\Anaconda3\\envs\\tf\\lib\\site-packages\\pip\\_internal\\operations\\prepare.py\", line 282, in _download_http_url\n",
      "    for chunk in download.chunks:\n",
      "  File \"C:\\Users\\Apidwalin\\Anaconda3\\envs\\tf\\lib\\site-packages\\pip\\_internal\\network\\utils.py\", line 88, in response_chunks\n",
      "    decode_content=False,\n",
      "  File \"C:\\Users\\Apidwalin\\Anaconda3\\envs\\tf\\lib\\site-packages\\pip\\_vendor\\urllib3\\response.py\", line 576, in stream\n",
      "    data = self.read(amt=amt, decode_content=decode_content)\n",
      "  File \"C:\\Users\\Apidwalin\\Anaconda3\\envs\\tf\\lib\\site-packages\\pip\\_vendor\\urllib3\\response.py\", line 541, in read\n",
      "    raise IncompleteRead(self._fp_bytes_read, self.length_remaining)\n",
      "  File \"C:\\Users\\Apidwalin\\Anaconda3\\envs\\tf\\lib\\contextlib.py\", line 130, in __exit__\n",
      "    self.gen.throw(type, value, traceback)\n",
      "  File \"C:\\Users\\Apidwalin\\Anaconda3\\envs\\tf\\lib\\site-packages\\pip\\_vendor\\urllib3\\response.py\", line 442, in _error_catcher\n",
      "    raise ReadTimeoutError(self._pool, None, \"Read timed out.\")\n",
      "pip._vendor.urllib3.exceptions.ReadTimeoutError: HTTPSConnectionPool(host='files.pythonhosted.org', port=443): Read timed out.\n"
     ]
    }
   ],
   "source": [
    "!pip install -q tf-models-official==2.3.0"
   ]
  },
  {
   "cell_type": "markdown",
   "metadata": {
    "colab_type": "text",
    "id": "hpf7JPCVsqtv"
   },
   "source": [
    "### Import Tensorflow and other libraries"
   ]
  },
  {
   "cell_type": "code",
   "execution_count": 6,
   "metadata": {
    "colab": {},
    "colab_type": "code",
    "id": "my4dp-RMssQe"
   },
   "outputs": [
    {
     "ename": "AttributeError",
     "evalue": "module 'tensorflow.python.keras.api._v1.keras.utils' has no attribute 'register_keras_serializable'",
     "output_type": "error",
     "traceback": [
      "\u001b[1;31m---------------------------------------------------------------------------\u001b[0m",
      "\u001b[1;31mAttributeError\u001b[0m                            Traceback (most recent call last)",
      "\u001b[1;32m<ipython-input-6-bf4dd5f48d70>\u001b[0m in \u001b[0;36m<module>\u001b[1;34m\u001b[0m\n\u001b[0;32m      2\u001b[0m \u001b[1;32mimport\u001b[0m \u001b[0mtensorflow\u001b[0m \u001b[1;32mas\u001b[0m \u001b[0mtf\u001b[0m\u001b[1;33m\u001b[0m\u001b[1;33m\u001b[0m\u001b[0m\n\u001b[0;32m      3\u001b[0m \u001b[1;33m\u001b[0m\u001b[0m\n\u001b[1;32m----> 4\u001b[1;33m \u001b[1;32mfrom\u001b[0m \u001b[0mofficial\u001b[0m\u001b[1;33m.\u001b[0m\u001b[0mmodeling\u001b[0m \u001b[1;32mimport\u001b[0m \u001b[0mactivations\u001b[0m\u001b[1;33m\u001b[0m\u001b[1;33m\u001b[0m\u001b[0m\n\u001b[0m\u001b[0;32m      5\u001b[0m \u001b[1;32mfrom\u001b[0m \u001b[0mofficial\u001b[0m\u001b[1;33m.\u001b[0m\u001b[0mnlp\u001b[0m \u001b[1;32mimport\u001b[0m \u001b[0mmodeling\u001b[0m\u001b[1;33m\u001b[0m\u001b[1;33m\u001b[0m\u001b[0m\n\u001b[0;32m      6\u001b[0m \u001b[1;32mfrom\u001b[0m \u001b[0mofficial\u001b[0m\u001b[1;33m.\u001b[0m\u001b[0mnlp\u001b[0m\u001b[1;33m.\u001b[0m\u001b[0mmodeling\u001b[0m \u001b[1;32mimport\u001b[0m \u001b[0mlayers\u001b[0m\u001b[1;33m,\u001b[0m \u001b[0mlosses\u001b[0m\u001b[1;33m,\u001b[0m \u001b[0mmodels\u001b[0m\u001b[1;33m,\u001b[0m \u001b[0mnetworks\u001b[0m\u001b[1;33m\u001b[0m\u001b[1;33m\u001b[0m\u001b[0m\n",
      "\u001b[1;32mC:\\tensorflow1\\models\\official\\modeling\\activations\\__init__.py\u001b[0m in \u001b[0;36m<module>\u001b[1;34m\u001b[0m\n\u001b[0;32m     14\u001b[0m \u001b[1;31m# ==============================================================================\u001b[0m\u001b[1;33m\u001b[0m\u001b[1;33m\u001b[0m\u001b[1;33m\u001b[0m\u001b[0m\n\u001b[0;32m     15\u001b[0m \u001b[1;34m\"\"\"Activations package definition.\"\"\"\u001b[0m\u001b[1;33m\u001b[0m\u001b[1;33m\u001b[0m\u001b[0m\n\u001b[1;32m---> 16\u001b[1;33m \u001b[1;32mfrom\u001b[0m \u001b[0mofficial\u001b[0m\u001b[1;33m.\u001b[0m\u001b[0mmodeling\u001b[0m\u001b[1;33m.\u001b[0m\u001b[0mactivations\u001b[0m\u001b[1;33m.\u001b[0m\u001b[0mgelu\u001b[0m \u001b[1;32mimport\u001b[0m \u001b[0mgelu\u001b[0m\u001b[1;33m\u001b[0m\u001b[1;33m\u001b[0m\u001b[0m\n\u001b[0m\u001b[0;32m     17\u001b[0m \u001b[1;32mfrom\u001b[0m \u001b[0mofficial\u001b[0m\u001b[1;33m.\u001b[0m\u001b[0mmodeling\u001b[0m\u001b[1;33m.\u001b[0m\u001b[0mactivations\u001b[0m\u001b[1;33m.\u001b[0m\u001b[0mswish\u001b[0m \u001b[1;32mimport\u001b[0m \u001b[0mhard_swish\u001b[0m\u001b[1;33m\u001b[0m\u001b[1;33m\u001b[0m\u001b[0m\n\u001b[0;32m     18\u001b[0m \u001b[1;32mfrom\u001b[0m \u001b[0mofficial\u001b[0m\u001b[1;33m.\u001b[0m\u001b[0mmodeling\u001b[0m\u001b[1;33m.\u001b[0m\u001b[0mactivations\u001b[0m\u001b[1;33m.\u001b[0m\u001b[0mswish\u001b[0m \u001b[1;32mimport\u001b[0m \u001b[0midentity\u001b[0m\u001b[1;33m\u001b[0m\u001b[1;33m\u001b[0m\u001b[0m\n",
      "\u001b[1;32mC:\\tensorflow1\\models\\official\\modeling\\activations\\gelu.py\u001b[0m in \u001b[0;36m<module>\u001b[1;34m\u001b[0m\n\u001b[0;32m     18\u001b[0m \u001b[1;33m\u001b[0m\u001b[0m\n\u001b[0;32m     19\u001b[0m \u001b[1;33m\u001b[0m\u001b[0m\n\u001b[1;32m---> 20\u001b[1;33m \u001b[1;33m@\u001b[0m\u001b[0mtf\u001b[0m\u001b[1;33m.\u001b[0m\u001b[0mkeras\u001b[0m\u001b[1;33m.\u001b[0m\u001b[0mutils\u001b[0m\u001b[1;33m.\u001b[0m\u001b[0mregister_keras_serializable\u001b[0m\u001b[1;33m(\u001b[0m\u001b[0mpackage\u001b[0m\u001b[1;33m=\u001b[0m\u001b[1;34m'Text'\u001b[0m\u001b[1;33m)\u001b[0m\u001b[1;33m\u001b[0m\u001b[1;33m\u001b[0m\u001b[0m\n\u001b[0m\u001b[0;32m     21\u001b[0m \u001b[1;32mdef\u001b[0m \u001b[0mgelu\u001b[0m\u001b[1;33m(\u001b[0m\u001b[0mx\u001b[0m\u001b[1;33m)\u001b[0m\u001b[1;33m:\u001b[0m\u001b[1;33m\u001b[0m\u001b[1;33m\u001b[0m\u001b[0m\n\u001b[0;32m     22\u001b[0m   \"\"\"Gaussian Error Linear Unit.\n",
      "\u001b[1;32mc:\\users\\apidwalin\\anaconda3\\envs\\tf\\lib\\site-packages\\tensorflow_core\\python\\util\\module_wrapper.py\u001b[0m in \u001b[0;36m__getattr__\u001b[1;34m(self, name)\u001b[0m\n\u001b[0;32m    191\u001b[0m   \u001b[1;32mdef\u001b[0m \u001b[0m__getattr__\u001b[0m\u001b[1;33m(\u001b[0m\u001b[0mself\u001b[0m\u001b[1;33m,\u001b[0m \u001b[0mname\u001b[0m\u001b[1;33m)\u001b[0m\u001b[1;33m:\u001b[0m\u001b[1;33m\u001b[0m\u001b[1;33m\u001b[0m\u001b[0m\n\u001b[0;32m    192\u001b[0m     \u001b[1;32mtry\u001b[0m\u001b[1;33m:\u001b[0m\u001b[1;33m\u001b[0m\u001b[1;33m\u001b[0m\u001b[0m\n\u001b[1;32m--> 193\u001b[1;33m       \u001b[0mattr\u001b[0m \u001b[1;33m=\u001b[0m \u001b[0mgetattr\u001b[0m\u001b[1;33m(\u001b[0m\u001b[0mself\u001b[0m\u001b[1;33m.\u001b[0m\u001b[0m_tfmw_wrapped_module\u001b[0m\u001b[1;33m,\u001b[0m \u001b[0mname\u001b[0m\u001b[1;33m)\u001b[0m\u001b[1;33m\u001b[0m\u001b[1;33m\u001b[0m\u001b[0m\n\u001b[0m\u001b[0;32m    194\u001b[0m     \u001b[1;32mexcept\u001b[0m \u001b[0mAttributeError\u001b[0m\u001b[1;33m:\u001b[0m\u001b[1;33m\u001b[0m\u001b[1;33m\u001b[0m\u001b[0m\n\u001b[0;32m    195\u001b[0m       \u001b[1;32mif\u001b[0m \u001b[1;32mnot\u001b[0m \u001b[0mself\u001b[0m\u001b[1;33m.\u001b[0m\u001b[0m_tfmw_public_apis\u001b[0m\u001b[1;33m:\u001b[0m\u001b[1;33m\u001b[0m\u001b[1;33m\u001b[0m\u001b[0m\n",
      "\u001b[1;31mAttributeError\u001b[0m: module 'tensorflow.python.keras.api._v1.keras.utils' has no attribute 'register_keras_serializable'"
     ]
    }
   ],
   "source": [
    "import numpy as np\n",
    "import tensorflow as tf\n",
    "\n",
    "from official.modeling import activations\n",
    "from official.nlp import modeling\n",
    "from official.nlp.modeling import layers, losses, models, networks"
   ]
  },
  {
   "cell_type": "markdown",
   "metadata": {
    "colab_type": "text",
    "id": "vjDmVsFfs85n"
   },
   "source": [
    "## Canonical BERT encoder\n",
    "\n",
    "Before learning how to customize the encoder, let's firstly create a canonical BERT enoder and use it to instantiate a `BertClassifier` for classification task."
   ]
  },
  {
   "cell_type": "code",
   "execution_count": null,
   "metadata": {
    "colab": {},
    "colab_type": "code",
    "id": "Oav8sbgstWc-"
   },
   "outputs": [],
   "source": [
    "cfg = {\n",
    "    \"vocab_size\": 100,\n",
    "    \"hidden_size\": 32,\n",
    "    \"num_layers\": 3,\n",
    "    \"num_attention_heads\": 4,\n",
    "    \"intermediate_size\": 64,\n",
    "    \"activation\": activations.gelu,\n",
    "    \"dropout_rate\": 0.1,\n",
    "    \"attention_dropout_rate\": 0.1,\n",
    "    \"sequence_length\": 16,\n",
    "    \"type_vocab_size\": 2,\n",
    "    \"initializer\": tf.keras.initializers.TruncatedNormal(stddev=0.02),\n",
    "}\n",
    "bert_encoder = modeling.networks.TransformerEncoder(**cfg)\n",
    "\n",
    "def build_classifier(bert_encoder):\n",
    "  return modeling.models.BertClassifier(bert_encoder, num_classes=2)\n",
    "\n",
    "canonical_classifier_model = build_classifier(bert_encoder)"
   ]
  },
  {
   "cell_type": "markdown",
   "metadata": {
    "colab_type": "text",
    "id": "Qe2UWI6_tsHo"
   },
   "source": [
    "`canonical_classifier_model` can be trained using the training data. For details about how to train the model, please see the colab [fine_tuning_bert.ipynb](https://github.com/tensorflow/models/blob/master/official/colab/fine_tuning_bert.ipynb). We skip the code that trains the model here.\n",
    "\n",
    "After training, we can apply the model to do prediction.\n"
   ]
  },
  {
   "cell_type": "code",
   "execution_count": null,
   "metadata": {
    "colab": {},
    "colab_type": "code",
    "id": "csED2d-Yt5h6"
   },
   "outputs": [],
   "source": [
    "def predict(model):\n",
    "  batch_size = 3\n",
    "  np.random.seed(0)\n",
    "  word_ids = np.random.randint(\n",
    "      cfg[\"vocab_size\"], size=(batch_size, cfg[\"sequence_length\"]))\n",
    "  mask = np.random.randint(2, size=(batch_size, cfg[\"sequence_length\"]))\n",
    "  type_ids = np.random.randint(\n",
    "      cfg[\"type_vocab_size\"], size=(batch_size, cfg[\"sequence_length\"]))\n",
    "  print(model([word_ids, mask, type_ids], training=False))\n",
    "\n",
    "predict(canonical_classifier_model)"
   ]
  },
  {
   "cell_type": "markdown",
   "metadata": {
    "colab_type": "text",
    "id": "PzKStEK9t_Pb"
   },
   "source": [
    "## Customize BERT encoder\n",
    "\n",
    "One BERT encoder consists of an embedding network and multiple transformer blocks, and each transformer block contains an attention layer and a feedforward layer."
   ]
  },
  {
   "cell_type": "markdown",
   "metadata": {
    "colab_type": "text",
    "id": "rmwQfhj6fmKz"
   },
   "source": [
    "We provide easy ways to customize each of those components via (1)\n",
    "[EncoderScaffold](https://github.com/tensorflow/models/blob/master/official/nlp/modeling/networks/encoder_scaffold.py) and (2) [TransformerScaffold](https://github.com/tensorflow/models/blob/master/official/nlp/modeling/layers/transformer_scaffold.py)."
   ]
  },
  {
   "cell_type": "markdown",
   "metadata": {
    "colab_type": "text",
    "id": "xsMgEVHAui11"
   },
   "source": [
    "### Use EncoderScaffold\n",
    "\n",
    "`EncoderScaffold` allows users to provide a custom embedding subnetwork\n",
    "  (which will replace the standard embedding logic) and/or a custom hidden layer class (which will replace the `Transformer` instantiation in the encoder)."
   ]
  },
  {
   "cell_type": "markdown",
   "metadata": {
    "colab_type": "text",
    "id": "-JBabpa2AOz8"
   },
   "source": [
    "#### Without Customization\n",
    "\n",
    "Without any customization, `EncoderScaffold` behaves the same the canonical `TransformerEncoder`.\n",
    "\n",
    "As shown in the following example, `EncoderScaffold` can load `TransformerEncoder`'s weights and output the same values:"
   ]
  },
  {
   "cell_type": "code",
   "execution_count": null,
   "metadata": {
    "colab": {},
    "colab_type": "code",
    "id": "ktNzKuVByZQf"
   },
   "outputs": [],
   "source": [
    "default_hidden_cfg = dict(\n",
    "    num_attention_heads=cfg[\"num_attention_heads\"],\n",
    "    intermediate_size=cfg[\"intermediate_size\"],\n",
    "    intermediate_activation=activations.gelu,\n",
    "    dropout_rate=cfg[\"dropout_rate\"],\n",
    "    attention_dropout_rate=cfg[\"attention_dropout_rate\"],\n",
    "    kernel_initializer=tf.keras.initializers.TruncatedNormal(0.02),\n",
    ")\n",
    "default_embedding_cfg = dict(\n",
    "    vocab_size=cfg[\"vocab_size\"],\n",
    "    type_vocab_size=cfg[\"type_vocab_size\"],\n",
    "    hidden_size=cfg[\"hidden_size\"],\n",
    "    seq_length=cfg[\"sequence_length\"],\n",
    "    initializer=tf.keras.initializers.TruncatedNormal(0.02),\n",
    "    dropout_rate=cfg[\"dropout_rate\"],\n",
    "    max_seq_length=cfg[\"sequence_length\"],\n",
    ")\n",
    "default_kwargs = dict(\n",
    "    hidden_cfg=default_hidden_cfg,\n",
    "    embedding_cfg=default_embedding_cfg,\n",
    "    num_hidden_instances=cfg[\"num_layers\"],\n",
    "    pooled_output_dim=cfg[\"hidden_size\"],\n",
    "    return_all_layer_outputs=True,\n",
    "    pooler_layer_initializer=tf.keras.initializers.TruncatedNormal(0.02),\n",
    ")\n",
    "encoder_scaffold = modeling.networks.EncoderScaffold(**default_kwargs)\n",
    "classifier_model_from_encoder_scaffold = build_classifier(encoder_scaffold)\n",
    "classifier_model_from_encoder_scaffold.set_weights(\n",
    "    canonical_classifier_model.get_weights())\n",
    "predict(classifier_model_from_encoder_scaffold)"
   ]
  },
  {
   "cell_type": "markdown",
   "metadata": {
    "colab_type": "text",
    "id": "sMaUmLyIuwcs"
   },
   "source": [
    "#### Customize Embedding\n",
    "\n",
    "Next, we show how to use a customized embedding network.\n",
    "\n",
    "We firstly build an embedding network that will replace the default network. This one will have 2 inputs (`mask` and `word_ids`) instead of 3, and won't use positional embeddings."
   ]
  },
  {
   "cell_type": "code",
   "execution_count": null,
   "metadata": {
    "colab": {},
    "colab_type": "code",
    "id": "LTinnaG6vcsw"
   },
   "outputs": [],
   "source": [
    "word_ids = tf.keras.layers.Input(\n",
    "    shape=(cfg['sequence_length'],), dtype=tf.int32, name=\"input_word_ids\")\n",
    "mask = tf.keras.layers.Input(\n",
    "    shape=(cfg['sequence_length'],), dtype=tf.int32, name=\"input_mask\")\n",
    "embedding_layer = modeling.layers.OnDeviceEmbedding(\n",
    "    vocab_size=cfg['vocab_size'],\n",
    "    embedding_width=cfg['hidden_size'],\n",
    "    initializer=tf.keras.initializers.TruncatedNormal(stddev=0.02),\n",
    "    name=\"word_embeddings\")\n",
    "word_embeddings = embedding_layer(word_ids)\n",
    "attention_mask = layers.SelfAttentionMask()([word_embeddings, mask])\n",
    "new_embedding_network = tf.keras.Model([word_ids, mask],\n",
    "                                       [word_embeddings, attention_mask])"
   ]
  },
  {
   "cell_type": "markdown",
   "metadata": {
    "colab_type": "text",
    "id": "HN7_yu-6O3qI"
   },
   "source": [
    "Inspecting `new_embedding_network`, we can see it takes two inputs:\n",
    "`input_word_ids` and `input_mask`."
   ]
  },
  {
   "cell_type": "code",
   "execution_count": null,
   "metadata": {
    "colab": {},
    "colab_type": "code",
    "id": "fO9zKFE4OpHp"
   },
   "outputs": [],
   "source": [
    "tf.keras.utils.plot_model(new_embedding_network, show_shapes=True, dpi=48)"
   ]
  },
  {
   "cell_type": "markdown",
   "metadata": {
    "colab_type": "text",
    "id": "9cOaGQHLv12W"
   },
   "source": [
    "We then can build a new encoder using the above `new_embedding_network`."
   ]
  },
  {
   "cell_type": "code",
   "execution_count": null,
   "metadata": {
    "colab": {},
    "colab_type": "code",
    "id": "mtFDMNf2vIl9"
   },
   "outputs": [],
   "source": [
    "kwargs = dict(default_kwargs)\n",
    "\n",
    "# Use new embedding network.\n",
    "kwargs['embedding_cls'] = new_embedding_network\n",
    "kwargs['embedding_data'] = embedding_layer.embeddings\n",
    "\n",
    "encoder_with_customized_embedding = modeling.networks.EncoderScaffold(**kwargs)\n",
    "classifier_model = build_classifier(encoder_with_customized_embedding)\n",
    "# ... Train the model ...\n",
    "print(classifier_model.inputs)\n",
    "\n",
    "# Assert that there are only two inputs.\n",
    "assert len(classifier_model.inputs) == 2"
   ]
  },
  {
   "cell_type": "markdown",
   "metadata": {
    "colab_type": "text",
    "id": "Z73ZQDtmwg9K"
   },
   "source": [
    "#### Customized Transformer\n",
    "\n",
    "User can also override the [hidden_cls](https://github.com/tensorflow/models/blob/master/official/nlp/modeling/networks/encoder_scaffold.py#L103) argument in `EncoderScaffold`'s constructor to employ a customized Transformer layer.\n",
    "\n",
    "See [ReZeroTransformer](https://github.com/tensorflow/models/blob/master/official/nlp/modeling/layers/rezero_transformer.py) for how to implement a customized Transformer layer.\n",
    "\n",
    "Following is an example of using `ReZeroTransformer`:\n"
   ]
  },
  {
   "cell_type": "code",
   "execution_count": null,
   "metadata": {
    "colab": {},
    "colab_type": "code",
    "id": "uAIarLZgw6pA"
   },
   "outputs": [],
   "source": [
    "kwargs = dict(default_kwargs)\n",
    "\n",
    "# Use ReZeroTransformer.\n",
    "kwargs['hidden_cls'] = modeling.layers.ReZeroTransformer\n",
    "\n",
    "encoder_with_rezero_transformer = modeling.networks.EncoderScaffold(**kwargs)\n",
    "classifier_model = build_classifier(encoder_with_rezero_transformer)\n",
    "# ... Train the model ...\n",
    "predict(classifier_model)\n",
    "\n",
    "# Assert that the variable `rezero_alpha` from ReZeroTransformer exists.\n",
    "assert 'rezero_alpha' in ''.join([x.name for x in classifier_model.trainable_weights])"
   ]
  },
  {
   "cell_type": "markdown",
   "metadata": {
    "colab_type": "text",
    "id": "6PMHFdvnxvR0"
   },
   "source": [
    "### Use [TransformerScaffold](https://github.com/tensorflow/models/blob/master/official/nlp/modeling/layers/transformer_scaffold.py)\n",
    "\n",
    "The above method of customizing `Transformer` requires rewriting the whole `Transformer` layer, while sometimes you may only want to customize either attention layer or feedforward block. In this case, [TransformerScaffold](https://github.com/tensorflow/models/blob/master/official/nlp/modeling/layers/transformer_scaffold.py) can be used.\n",
    "\n"
   ]
  },
  {
   "cell_type": "markdown",
   "metadata": {
    "colab_type": "text",
    "id": "D6FejlgwyAy_"
   },
   "source": [
    "#### Customize Attention Layer\n",
    "\n",
    "User can also override the [attention_cls](https://github.com/tensorflow/models/blob/master/official/nlp/modeling/layers/transformer_scaffold.py#L45) argument in `TransformerScaffold`'s constructor to employ a customized Attention layer.\n",
    "\n",
    "See [TalkingHeadsAttention](https://github.com/tensorflow/models/blob/master/official/nlp/modeling/layers/talking_heads_attention.py) for how to implement a customized `Attention` layer.\n",
    "\n",
    "Following is an example of using [TalkingHeadsAttention](https://github.com/tensorflow/models/blob/master/official/nlp/modeling/layers/talking_heads_attention.py):"
   ]
  },
  {
   "cell_type": "code",
   "execution_count": null,
   "metadata": {
    "colab": {},
    "colab_type": "code",
    "id": "nFrSMrZuyNeQ"
   },
   "outputs": [],
   "source": [
    "# Use TalkingHeadsAttention\n",
    "hidden_cfg = dict(default_hidden_cfg)\n",
    "hidden_cfg['attention_cls'] = modeling.layers.TalkingHeadsAttention\n",
    "\n",
    "kwargs = dict(default_kwargs)\n",
    "kwargs['hidden_cls'] = modeling.layers.TransformerScaffold\n",
    "kwargs['hidden_cfg'] = hidden_cfg\n",
    "\n",
    "encoder = modeling.networks.EncoderScaffold(**kwargs)\n",
    "classifier_model = build_classifier(encoder)\n",
    "# ... Train the model ...\n",
    "predict(classifier_model)\n",
    "\n",
    "# Assert that the variable `pre_softmax_weight` from TalkingHeadsAttention exists.\n",
    "assert 'pre_softmax_weight' in ''.join([x.name for x in classifier_model.trainable_weights])"
   ]
  },
  {
   "cell_type": "markdown",
   "metadata": {
    "colab_type": "text",
    "id": "kuEJcTyByVvI"
   },
   "source": [
    "#### Customize Feedforward Layer\n",
    "\n",
    "Similiarly, one could also customize the feedforward layer.\n",
    "\n",
    "See [GatedFeedforward](https://github.com/tensorflow/models/blob/master/official/nlp/modeling/layers/gated_feedforward.py) for how to implement a customized feedforward layer.\n",
    "\n",
    "Following is an example of using [GatedFeedforward](https://github.com/tensorflow/models/blob/master/official/nlp/modeling/layers/gated_feedforward.py)."
   ]
  },
  {
   "cell_type": "code",
   "execution_count": null,
   "metadata": {
    "colab": {},
    "colab_type": "code",
    "id": "XAbKy_l4y_-i"
   },
   "outputs": [],
   "source": [
    "# Use TalkingHeadsAttention\n",
    "hidden_cfg = dict(default_hidden_cfg)\n",
    "hidden_cfg['feedforward_cls'] = modeling.layers.GatedFeedforward\n",
    "\n",
    "kwargs = dict(default_kwargs)\n",
    "kwargs['hidden_cls'] = modeling.layers.TransformerScaffold\n",
    "kwargs['hidden_cfg'] = hidden_cfg\n",
    "\n",
    "encoder_with_gated_feedforward = modeling.networks.EncoderScaffold(**kwargs)\n",
    "classifier_model = build_classifier(encoder_with_gated_feedforward)\n",
    "# ... Train the model ...\n",
    "predict(classifier_model)\n",
    "\n",
    "# Assert that the variable `gate` from GatedFeedforward exists.\n",
    "assert 'gate' in ''.join([x.name for x in classifier_model.trainable_weights])"
   ]
  },
  {
   "cell_type": "markdown",
   "metadata": {
    "colab_type": "text",
    "id": "a_8NWUhkzeAq"
   },
   "source": [
    "### Build a new Encoder using building blocks from KerasBERT.\n",
    "\n",
    "Finally, you could also build a new encoder using building blocks in the modeling library.\n",
    "\n",
    "See [AlbertTransformerEncoder](https://github.com/tensorflow/models/blob/master/official/nlp/modeling/networks/albert_transformer_encoder.py) as an example:\n"
   ]
  },
  {
   "cell_type": "code",
   "execution_count": null,
   "metadata": {
    "colab": {},
    "colab_type": "code",
    "id": "xsiA3RzUzmUM"
   },
   "outputs": [],
   "source": [
    "albert_encoder = modeling.networks.AlbertTransformerEncoder(**cfg)\n",
    "classifier_model = build_classifier(albert_encoder)\n",
    "# ... Train the model ...\n",
    "predict(classifier_model)"
   ]
  },
  {
   "cell_type": "markdown",
   "metadata": {
    "colab_type": "text",
    "id": "MeidDfhlHKSO"
   },
   "source": [
    "Inspecting the `albert_encoder`, we see it stacks the same `Transformer` layer multiple times."
   ]
  },
  {
   "cell_type": "code",
   "execution_count": null,
   "metadata": {
    "colab": {},
    "colab_type": "code",
    "id": "Uv_juT22HERW"
   },
   "outputs": [],
   "source": [
    "tf.keras.utils.plot_model(albert_encoder, show_shapes=True, dpi=48)"
   ]
  }
 ],
 "metadata": {
  "colab": {
   "collapsed_sections": [],
   "name": "Customizing a Transformer Encoder",
   "private_outputs": true,
   "provenance": [],
   "toc_visible": true
  },
  "kernelspec": {
   "display_name": "Python 3",
   "language": "python",
   "name": "python3"
  }
 },
 "nbformat": 4,
 "nbformat_minor": 1
}
